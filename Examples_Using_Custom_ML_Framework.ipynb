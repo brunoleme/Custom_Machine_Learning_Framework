{
  "nbformat": 4,
  "nbformat_minor": 0,
  "metadata": {
    "colab": {
      "name": "Examples_Custom_ML_Framework.ipynb",
      "provenance": [],
      "collapsed_sections": [],
      "toc_visible": true,
      "authorship_tag": "ABX9TyP9Y0jvgz2vdUqGgSmWqfoq",
      "include_colab_link": true
    },
    "kernelspec": {
      "name": "python3",
      "display_name": "Python 3"
    }
  },
  "cells": [
    {
      "cell_type": "markdown",
      "metadata": {
        "id": "view-in-github",
        "colab_type": "text"
      },
      "source": [
        "<a href=\"https://colab.research.google.com/github/brunoleme/Custom_Machine_Learning_Framework/blob/main/Examples_Using_Custom_ML_Framework.ipynb\" target=\"_parent\"><img src=\"https://colab.research.google.com/assets/colab-badge.svg\" alt=\"Open In Colab\"/></a>"
      ]
    },
    {
      "cell_type": "markdown",
      "metadata": {
        "id": "_kdTd7HmP7y_"
      },
      "source": [
        "# **Dependencies**"
      ]
    },
    {
      "cell_type": "code",
      "metadata": {
        "id": "6Rq6BS0rmHCk",
        "colab": {
          "base_uri": "https://localhost:8080/"
        },
        "outputId": "ff3206e4-1a27-44fa-a9a6-622c8555c0a3"
      },
      "source": [
        "from google.colab import drive\n",
        "drive.mount('/content/drive')"
      ],
      "execution_count": 1,
      "outputs": [
        {
          "output_type": "stream",
          "text": [
            "Drive already mounted at /content/drive; to attempt to forcibly remount, call drive.mount(\"/content/drive\", force_remount=True).\n"
          ],
          "name": "stdout"
        }
      ]
    },
    {
      "cell_type": "code",
      "metadata": {
        "id": "h69LZdVPmkBM"
      },
      "source": [
        "import pandas as pd\n",
        "import numpy as np"
      ],
      "execution_count": 2,
      "outputs": []
    },
    {
      "cell_type": "code",
      "metadata": {
        "id": "fwVF8fvD_OfL"
      },
      "source": [
        "import sys\n",
        "sys.path.append('/content/drive/My Drive/Custom_Python_Scripts')"
      ],
      "execution_count": 3,
      "outputs": []
    },
    {
      "cell_type": "code",
      "metadata": {
        "id": "KZdnumpP_aNW"
      },
      "source": [
        "%load '/content/drive/My Drive/Custom_Python_Scripts/bl_ml_toolkit.py'"
      ],
      "execution_count": 4,
      "outputs": []
    },
    {
      "cell_type": "code",
      "metadata": {
        "id": "d_UwG0-C-H7o"
      },
      "source": [
        "from bl_ml_toolkit import ImputMissingValues, DummyTransformer, FestureImpoertanceVariableSelection, RegularizationFeatureSelection, VariableClusteringSelection, OptimalNominalBinning, OptimalIntervalBinning"
      ],
      "execution_count": 5,
      "outputs": []
    },
    {
      "cell_type": "markdown",
      "metadata": {
        "id": "60FLL9TOjmyz"
      },
      "source": [
        "We implement custom classes to automate some tasks like: impute missing values, feature selection, correlation analysis, feature discretization, optimal binning, etc.\n",
        "\n",
        "Inheriting from TransformerMixin and BaseEstimator base classes from sklearn allow us to use the same logic as sklearn classes, using fit and transform methods."
      ]
    },
    {
      "cell_type": "code",
      "metadata": {
        "id": "NkawnPp69B4O"
      },
      "source": [
        "#from sklearn.base import BaseEstimator, TransformerMixin\n",
        "\n",
        "#class CustomClass(BaseEstimator, TransformerMixin):\n",
        "\n",
        "#  def __init__(self, ...):\n",
        "#    #code...\n",
        "  \n",
        "#  def fit(self, x, y=None):\n",
        "#    #code...\n",
        "\n",
        "#  def transform(self, x):\n",
        "#    #code...\n",
        "#    #return\n",
        "  \n",
        "#  def fit_transform(self, x):\n",
        "#    self.fit(x)\n",
        "#    return self.transform(x)"
      ],
      "execution_count": 6,
      "outputs": []
    },
    {
      "cell_type": "markdown",
      "metadata": {
        "id": "ljFB-meO8cqS"
      },
      "source": [
        "# **Impute Missing Values**"
      ]
    },
    {
      "cell_type": "markdown",
      "metadata": {
        "id": "C8vyli9RkFiB"
      },
      "source": [
        "This class can be used to fill missing values with some default criterion like mean, median, etc."
      ]
    },
    {
      "cell_type": "code",
      "metadata": {
        "id": "gjz509zK8Zp-"
      },
      "source": [
        "sample_data = []\n",
        "sample_data.append([5, 1, 2, 4, None, 'A'])\n",
        "sample_data.append([2, 1, 5, None, 4, 'B'])\n",
        "sample_data.append([None, 7, 5, 3, 1, 'C'])\n",
        "sample_data.append([6, None, 5, 9, 3, 'B'])\n",
        "sample_data.append([3, 1, None, 7, 8, None])\n",
        "df_sample_train_data = pd.DataFrame(sample_data, columns=['col1', 'col2', 'col3', 'col4', 'col5', 'col6'])\n",
        "df_sample_train_data['col6'] = df_sample_train_data['col6'].astype('category')\n",
        "\n",
        "sample_data = []\n",
        "sample_data.append([None, 2, 3, 10, None, None])\n",
        "sample_data.append([1, None, 6, 1, 0, 'B'])\n",
        "sample_data.append([7, 9, None, None, 2, 'A'])\n",
        "sample_data.append([4, 2, 3, 9, 8, 'C'])\n",
        "df_sample_valid_data = pd.DataFrame(sample_data, columns=['col1', 'col2', 'col3', 'col4', 'col5', 'col6'])\n",
        "df_sample_valid_data['col6'] = df_sample_valid_data['col6'].astype('category')"
      ],
      "execution_count": 7,
      "outputs": []
    },
    {
      "cell_type": "code",
      "metadata": {
        "colab": {
          "base_uri": "https://localhost:8080/",
          "height": 204
        },
        "id": "Hy6kp4dKBldm",
        "outputId": "fff91461-5cf0-4296-a635-022f2c6697bd"
      },
      "source": [
        "df_sample_train_data"
      ],
      "execution_count": 8,
      "outputs": [
        {
          "output_type": "execute_result",
          "data": {
            "text/html": [
              "<div>\n",
              "<style scoped>\n",
              "    .dataframe tbody tr th:only-of-type {\n",
              "        vertical-align: middle;\n",
              "    }\n",
              "\n",
              "    .dataframe tbody tr th {\n",
              "        vertical-align: top;\n",
              "    }\n",
              "\n",
              "    .dataframe thead th {\n",
              "        text-align: right;\n",
              "    }\n",
              "</style>\n",
              "<table border=\"1\" class=\"dataframe\">\n",
              "  <thead>\n",
              "    <tr style=\"text-align: right;\">\n",
              "      <th></th>\n",
              "      <th>col1</th>\n",
              "      <th>col2</th>\n",
              "      <th>col3</th>\n",
              "      <th>col4</th>\n",
              "      <th>col5</th>\n",
              "      <th>col6</th>\n",
              "    </tr>\n",
              "  </thead>\n",
              "  <tbody>\n",
              "    <tr>\n",
              "      <th>0</th>\n",
              "      <td>5.00</td>\n",
              "      <td>1.00</td>\n",
              "      <td>2.00</td>\n",
              "      <td>4.00</td>\n",
              "      <td>nan</td>\n",
              "      <td>A</td>\n",
              "    </tr>\n",
              "    <tr>\n",
              "      <th>1</th>\n",
              "      <td>2.00</td>\n",
              "      <td>1.00</td>\n",
              "      <td>5.00</td>\n",
              "      <td>nan</td>\n",
              "      <td>4.00</td>\n",
              "      <td>B</td>\n",
              "    </tr>\n",
              "    <tr>\n",
              "      <th>2</th>\n",
              "      <td>nan</td>\n",
              "      <td>7.00</td>\n",
              "      <td>5.00</td>\n",
              "      <td>3.00</td>\n",
              "      <td>1.00</td>\n",
              "      <td>C</td>\n",
              "    </tr>\n",
              "    <tr>\n",
              "      <th>3</th>\n",
              "      <td>6.00</td>\n",
              "      <td>nan</td>\n",
              "      <td>5.00</td>\n",
              "      <td>9.00</td>\n",
              "      <td>3.00</td>\n",
              "      <td>B</td>\n",
              "    </tr>\n",
              "    <tr>\n",
              "      <th>4</th>\n",
              "      <td>3.00</td>\n",
              "      <td>1.00</td>\n",
              "      <td>nan</td>\n",
              "      <td>7.00</td>\n",
              "      <td>8.00</td>\n",
              "      <td>NaN</td>\n",
              "    </tr>\n",
              "  </tbody>\n",
              "</table>\n",
              "</div>"
            ],
            "text/plain": [
              "                  col1                 col2  ...                 col5  col6\n",
              "0                 5.00                 1.00  ...                  nan     A\n",
              "1                 2.00                 1.00  ...                 4.00     B\n",
              "2                  nan                 7.00  ...                 1.00     C\n",
              "3                 6.00                  nan  ...                 3.00     B\n",
              "4                 3.00                 1.00  ...                 8.00   NaN\n",
              "\n",
              "[5 rows x 6 columns]"
            ]
          },
          "metadata": {
            "tags": []
          },
          "execution_count": 8
        }
      ]
    },
    {
      "cell_type": "code",
      "metadata": {
        "colab": {
          "base_uri": "https://localhost:8080/",
          "height": 173
        },
        "id": "ztTljzY--dmv",
        "outputId": "ab4927fb-8668-4090-c8a8-b523e884da27"
      },
      "source": [
        "df_sample_valid_data"
      ],
      "execution_count": 9,
      "outputs": [
        {
          "output_type": "execute_result",
          "data": {
            "text/html": [
              "<div>\n",
              "<style scoped>\n",
              "    .dataframe tbody tr th:only-of-type {\n",
              "        vertical-align: middle;\n",
              "    }\n",
              "\n",
              "    .dataframe tbody tr th {\n",
              "        vertical-align: top;\n",
              "    }\n",
              "\n",
              "    .dataframe thead th {\n",
              "        text-align: right;\n",
              "    }\n",
              "</style>\n",
              "<table border=\"1\" class=\"dataframe\">\n",
              "  <thead>\n",
              "    <tr style=\"text-align: right;\">\n",
              "      <th></th>\n",
              "      <th>col1</th>\n",
              "      <th>col2</th>\n",
              "      <th>col3</th>\n",
              "      <th>col4</th>\n",
              "      <th>col5</th>\n",
              "      <th>col6</th>\n",
              "    </tr>\n",
              "  </thead>\n",
              "  <tbody>\n",
              "    <tr>\n",
              "      <th>0</th>\n",
              "      <td>nan</td>\n",
              "      <td>2.00</td>\n",
              "      <td>3.00</td>\n",
              "      <td>10.00</td>\n",
              "      <td>nan</td>\n",
              "      <td>NaN</td>\n",
              "    </tr>\n",
              "    <tr>\n",
              "      <th>1</th>\n",
              "      <td>1.00</td>\n",
              "      <td>nan</td>\n",
              "      <td>6.00</td>\n",
              "      <td>1.00</td>\n",
              "      <td>0.00</td>\n",
              "      <td>B</td>\n",
              "    </tr>\n",
              "    <tr>\n",
              "      <th>2</th>\n",
              "      <td>7.00</td>\n",
              "      <td>9.00</td>\n",
              "      <td>nan</td>\n",
              "      <td>nan</td>\n",
              "      <td>2.00</td>\n",
              "      <td>A</td>\n",
              "    </tr>\n",
              "    <tr>\n",
              "      <th>3</th>\n",
              "      <td>4.00</td>\n",
              "      <td>2.00</td>\n",
              "      <td>3.00</td>\n",
              "      <td>9.00</td>\n",
              "      <td>8.00</td>\n",
              "      <td>C</td>\n",
              "    </tr>\n",
              "  </tbody>\n",
              "</table>\n",
              "</div>"
            ],
            "text/plain": [
              "                  col1                 col2  ...                 col5  col6\n",
              "0                  nan                 2.00  ...                  nan   NaN\n",
              "1                 1.00                  nan  ...                 0.00     B\n",
              "2                 7.00                 9.00  ...                 2.00     A\n",
              "3                 4.00                 2.00  ...                 8.00     C\n",
              "\n",
              "[4 rows x 6 columns]"
            ]
          },
          "metadata": {
            "tags": []
          },
          "execution_count": 9
        }
      ]
    },
    {
      "cell_type": "code",
      "metadata": {
        "id": "UdSxT4bI-iAm"
      },
      "source": [
        "from bl_ml_toolkit import ImputMissingValues\n",
        "imv = ImputMissingValues(missing_threshold=0.5, interval_method='mean', category_method='mode') #implemented interval methods: mean, median, min, max"
      ],
      "execution_count": 10,
      "outputs": []
    },
    {
      "cell_type": "code",
      "metadata": {
        "colab": {
          "base_uri": "https://localhost:8080/",
          "height": 204
        },
        "id": "NNZj7cmc-tHA",
        "outputId": "868e309f-e642-42b7-9b89-83f57ccf3c11"
      },
      "source": [
        "imv.fit(df_sample_train_data)\n",
        "df_sample_train_data_2 = imv.transform(df_sample_train_data)\n",
        "df_sample_train_data_2"
      ],
      "execution_count": 11,
      "outputs": [
        {
          "output_type": "execute_result",
          "data": {
            "text/html": [
              "<div>\n",
              "<style scoped>\n",
              "    .dataframe tbody tr th:only-of-type {\n",
              "        vertical-align: middle;\n",
              "    }\n",
              "\n",
              "    .dataframe tbody tr th {\n",
              "        vertical-align: top;\n",
              "    }\n",
              "\n",
              "    .dataframe thead th {\n",
              "        text-align: right;\n",
              "    }\n",
              "</style>\n",
              "<table border=\"1\" class=\"dataframe\">\n",
              "  <thead>\n",
              "    <tr style=\"text-align: right;\">\n",
              "      <th></th>\n",
              "      <th>col1</th>\n",
              "      <th>col2</th>\n",
              "      <th>col3</th>\n",
              "      <th>col4</th>\n",
              "      <th>col5</th>\n",
              "      <th>col6</th>\n",
              "    </tr>\n",
              "  </thead>\n",
              "  <tbody>\n",
              "    <tr>\n",
              "      <th>0</th>\n",
              "      <td>5.00</td>\n",
              "      <td>1.00</td>\n",
              "      <td>2.00</td>\n",
              "      <td>4.00</td>\n",
              "      <td>4.00</td>\n",
              "      <td>A</td>\n",
              "    </tr>\n",
              "    <tr>\n",
              "      <th>1</th>\n",
              "      <td>2.00</td>\n",
              "      <td>1.00</td>\n",
              "      <td>5.00</td>\n",
              "      <td>5.75</td>\n",
              "      <td>4.00</td>\n",
              "      <td>B</td>\n",
              "    </tr>\n",
              "    <tr>\n",
              "      <th>2</th>\n",
              "      <td>4.00</td>\n",
              "      <td>7.00</td>\n",
              "      <td>5.00</td>\n",
              "      <td>3.00</td>\n",
              "      <td>1.00</td>\n",
              "      <td>C</td>\n",
              "    </tr>\n",
              "    <tr>\n",
              "      <th>3</th>\n",
              "      <td>6.00</td>\n",
              "      <td>2.50</td>\n",
              "      <td>5.00</td>\n",
              "      <td>9.00</td>\n",
              "      <td>3.00</td>\n",
              "      <td>B</td>\n",
              "    </tr>\n",
              "    <tr>\n",
              "      <th>4</th>\n",
              "      <td>3.00</td>\n",
              "      <td>1.00</td>\n",
              "      <td>4.25</td>\n",
              "      <td>7.00</td>\n",
              "      <td>8.00</td>\n",
              "      <td>B</td>\n",
              "    </tr>\n",
              "  </tbody>\n",
              "</table>\n",
              "</div>"
            ],
            "text/plain": [
              "                  col1                 col2  ...                 col5  col6\n",
              "0                 5.00                 1.00  ...                 4.00     A\n",
              "1                 2.00                 1.00  ...                 4.00     B\n",
              "2                 4.00                 7.00  ...                 1.00     C\n",
              "3                 6.00                 2.50  ...                 3.00     B\n",
              "4                 3.00                 1.00  ...                 8.00     B\n",
              "\n",
              "[5 rows x 6 columns]"
            ]
          },
          "metadata": {
            "tags": []
          },
          "execution_count": 11
        }
      ]
    },
    {
      "cell_type": "code",
      "metadata": {
        "colab": {
          "base_uri": "https://localhost:8080/"
        },
        "id": "egzg7B0cBFL0",
        "outputId": "3a46abee-8120-4b11-e6aa-46353c602c28"
      },
      "source": [
        "print('interval_method: {}, imput_values: {}'.format(imv.interval_method, imv.interval_imput_dict))\n",
        "print('nominal_method: {}, imput_values: {}'.format(imv.category_method, imv.category_imput_dict))"
      ],
      "execution_count": 12,
      "outputs": [
        {
          "output_type": "stream",
          "text": [
            "interval_method: mean, imput_values: {'col1': 4.0, 'col2': 2.5, 'col3': 4.25, 'col4': 5.75, 'col5': 4.0}\n",
            "nominal_method: mode, imput_values: {'col6': 'B'}\n"
          ],
          "name": "stdout"
        }
      ]
    },
    {
      "cell_type": "code",
      "metadata": {
        "colab": {
          "base_uri": "https://localhost:8080/",
          "height": 173
        },
        "id": "gu7E4OEaAk-2",
        "outputId": "8e8c899d-c47a-415f-83b4-b6f79a1f65b2"
      },
      "source": [
        "df_sample_valid_data_2 = imv.transform(df_sample_valid_data)\n",
        "df_sample_valid_data_2"
      ],
      "execution_count": 13,
      "outputs": [
        {
          "output_type": "execute_result",
          "data": {
            "text/html": [
              "<div>\n",
              "<style scoped>\n",
              "    .dataframe tbody tr th:only-of-type {\n",
              "        vertical-align: middle;\n",
              "    }\n",
              "\n",
              "    .dataframe tbody tr th {\n",
              "        vertical-align: top;\n",
              "    }\n",
              "\n",
              "    .dataframe thead th {\n",
              "        text-align: right;\n",
              "    }\n",
              "</style>\n",
              "<table border=\"1\" class=\"dataframe\">\n",
              "  <thead>\n",
              "    <tr style=\"text-align: right;\">\n",
              "      <th></th>\n",
              "      <th>col1</th>\n",
              "      <th>col2</th>\n",
              "      <th>col3</th>\n",
              "      <th>col4</th>\n",
              "      <th>col5</th>\n",
              "      <th>col6</th>\n",
              "    </tr>\n",
              "  </thead>\n",
              "  <tbody>\n",
              "    <tr>\n",
              "      <th>0</th>\n",
              "      <td>4.00</td>\n",
              "      <td>2.00</td>\n",
              "      <td>3.00</td>\n",
              "      <td>10.00</td>\n",
              "      <td>4.00</td>\n",
              "      <td>B</td>\n",
              "    </tr>\n",
              "    <tr>\n",
              "      <th>1</th>\n",
              "      <td>1.00</td>\n",
              "      <td>2.50</td>\n",
              "      <td>6.00</td>\n",
              "      <td>1.00</td>\n",
              "      <td>0.00</td>\n",
              "      <td>B</td>\n",
              "    </tr>\n",
              "    <tr>\n",
              "      <th>2</th>\n",
              "      <td>7.00</td>\n",
              "      <td>9.00</td>\n",
              "      <td>4.25</td>\n",
              "      <td>5.75</td>\n",
              "      <td>2.00</td>\n",
              "      <td>A</td>\n",
              "    </tr>\n",
              "    <tr>\n",
              "      <th>3</th>\n",
              "      <td>4.00</td>\n",
              "      <td>2.00</td>\n",
              "      <td>3.00</td>\n",
              "      <td>9.00</td>\n",
              "      <td>8.00</td>\n",
              "      <td>C</td>\n",
              "    </tr>\n",
              "  </tbody>\n",
              "</table>\n",
              "</div>"
            ],
            "text/plain": [
              "                  col1                 col2  ...                 col5  col6\n",
              "0                 4.00                 2.00  ...                 4.00     B\n",
              "1                 1.00                 2.50  ...                 0.00     B\n",
              "2                 7.00                 9.00  ...                 2.00     A\n",
              "3                 4.00                 2.00  ...                 8.00     C\n",
              "\n",
              "[4 rows x 6 columns]"
            ]
          },
          "metadata": {
            "tags": []
          },
          "execution_count": 13
        }
      ]
    },
    {
      "cell_type": "markdown",
      "metadata": {
        "id": "DOe5Mg9pkw0U"
      },
      "source": [
        "The following plot shows us the histogram of features by missing fraction."
      ]
    },
    {
      "cell_type": "code",
      "metadata": {
        "colab": {
          "base_uri": "https://localhost:8080/",
          "height": 352
        },
        "id": "QcQtFx82G_e6",
        "outputId": "4e12ca43-e99a-4c90-8ffc-aa1ced985bc6"
      },
      "source": [
        "imv.plot_missing()"
      ],
      "execution_count": 14,
      "outputs": [
        {
          "output_type": "display_data",
          "data": {
            "image/png": "[encoded data removed]",
            "text/plain": [
              "<Figure size 504x360 with 1 Axes>"
            ]
          },
          "metadata": {
            "tags": []
          }
        }
      ]
    },
    {
      "cell_type": "markdown",
      "metadata": {
        "id": "vUrIhjan8p3k"
      },
      "source": [
        "# **Dummy Variables**"
      ]
    },
    {
      "cell_type": "markdown",
      "metadata": {
        "id": "VrO4ewpPk7ug"
      },
      "source": [
        "This class build rules to replace categorical features by dummy variables."
      ]
    },
    {
      "cell_type": "code",
      "metadata": {
        "colab": {
          "base_uri": "https://localhost:8080/",
          "height": 204
        },
        "id": "2amkR7_KEb1z",
        "outputId": "57afca6e-0033-4278-9deb-c6981f20e6bb"
      },
      "source": [
        "df_sample_train_data_2"
      ],
      "execution_count": 15,
      "outputs": [
        {
          "output_type": "execute_result",
          "data": {
            "text/html": [
              "<div>\n",
              "<style scoped>\n",
              "    .dataframe tbody tr th:only-of-type {\n",
              "        vertical-align: middle;\n",
              "    }\n",
              "\n",
              "    .dataframe tbody tr th {\n",
              "        vertical-align: top;\n",
              "    }\n",
              "\n",
              "    .dataframe thead th {\n",
              "        text-align: right;\n",
              "    }\n",
              "</style>\n",
              "<table border=\"1\" class=\"dataframe\">\n",
              "  <thead>\n",
              "    <tr style=\"text-align: right;\">\n",
              "      <th></th>\n",
              "      <th>col1</th>\n",
              "      <th>col2</th>\n",
              "      <th>col3</th>\n",
              "      <th>col4</th>\n",
              "      <th>col5</th>\n",
              "      <th>col6</th>\n",
              "    </tr>\n",
              "  </thead>\n",
              "  <tbody>\n",
              "    <tr>\n",
              "      <th>0</th>\n",
              "      <td>5.00</td>\n",
              "      <td>1.00</td>\n",
              "      <td>2.00</td>\n",
              "      <td>4.00</td>\n",
              "      <td>4.00</td>\n",
              "      <td>A</td>\n",
              "    </tr>\n",
              "    <tr>\n",
              "      <th>1</th>\n",
              "      <td>2.00</td>\n",
              "      <td>1.00</td>\n",
              "      <td>5.00</td>\n",
              "      <td>5.75</td>\n",
              "      <td>4.00</td>\n",
              "      <td>B</td>\n",
              "    </tr>\n",
              "    <tr>\n",
              "      <th>2</th>\n",
              "      <td>4.00</td>\n",
              "      <td>7.00</td>\n",
              "      <td>5.00</td>\n",
              "      <td>3.00</td>\n",
              "      <td>1.00</td>\n",
              "      <td>C</td>\n",
              "    </tr>\n",
              "    <tr>\n",
              "      <th>3</th>\n",
              "      <td>6.00</td>\n",
              "      <td>2.50</td>\n",
              "      <td>5.00</td>\n",
              "      <td>9.00</td>\n",
              "      <td>3.00</td>\n",
              "      <td>B</td>\n",
              "    </tr>\n",
              "    <tr>\n",
              "      <th>4</th>\n",
              "      <td>3.00</td>\n",
              "      <td>1.00</td>\n",
              "      <td>4.25</td>\n",
              "      <td>7.00</td>\n",
              "      <td>8.00</td>\n",
              "      <td>B</td>\n",
              "    </tr>\n",
              "  </tbody>\n",
              "</table>\n",
              "</div>"
            ],
            "text/plain": [
              "                  col1                 col2  ...                 col5  col6\n",
              "0                 5.00                 1.00  ...                 4.00     A\n",
              "1                 2.00                 1.00  ...                 4.00     B\n",
              "2                 4.00                 7.00  ...                 1.00     C\n",
              "3                 6.00                 2.50  ...                 3.00     B\n",
              "4                 3.00                 1.00  ...                 8.00     B\n",
              "\n",
              "[5 rows x 6 columns]"
            ]
          },
          "metadata": {
            "tags": []
          },
          "execution_count": 15
        }
      ]
    },
    {
      "cell_type": "code",
      "metadata": {
        "colab": {
          "base_uri": "https://localhost:8080/",
          "height": 173
        },
        "id": "mM3_vcOTEdYG",
        "outputId": "92ffe75a-5d89-46e8-c3af-b10207d78141"
      },
      "source": [
        "df_sample_valid_data_2"
      ],
      "execution_count": 16,
      "outputs": [
        {
          "output_type": "execute_result",
          "data": {
            "text/html": [
              "<div>\n",
              "<style scoped>\n",
              "    .dataframe tbody tr th:only-of-type {\n",
              "        vertical-align: middle;\n",
              "    }\n",
              "\n",
              "    .dataframe tbody tr th {\n",
              "        vertical-align: top;\n",
              "    }\n",
              "\n",
              "    .dataframe thead th {\n",
              "        text-align: right;\n",
              "    }\n",
              "</style>\n",
              "<table border=\"1\" class=\"dataframe\">\n",
              "  <thead>\n",
              "    <tr style=\"text-align: right;\">\n",
              "      <th></th>\n",
              "      <th>col1</th>\n",
              "      <th>col2</th>\n",
              "      <th>col3</th>\n",
              "      <th>col4</th>\n",
              "      <th>col5</th>\n",
              "      <th>col6</th>\n",
              "    </tr>\n",
              "  </thead>\n",
              "  <tbody>\n",
              "    <tr>\n",
              "      <th>0</th>\n",
              "      <td>4.00</td>\n",
              "      <td>2.00</td>\n",
              "      <td>3.00</td>\n",
              "      <td>10.00</td>\n",
              "      <td>4.00</td>\n",
              "      <td>B</td>\n",
              "    </tr>\n",
              "    <tr>\n",
              "      <th>1</th>\n",
              "      <td>1.00</td>\n",
              "      <td>2.50</td>\n",
              "      <td>6.00</td>\n",
              "      <td>1.00</td>\n",
              "      <td>0.00</td>\n",
              "      <td>B</td>\n",
              "    </tr>\n",
              "    <tr>\n",
              "      <th>2</th>\n",
              "      <td>7.00</td>\n",
              "      <td>9.00</td>\n",
              "      <td>4.25</td>\n",
              "      <td>5.75</td>\n",
              "      <td>2.00</td>\n",
              "      <td>A</td>\n",
              "    </tr>\n",
              "    <tr>\n",
              "      <th>3</th>\n",
              "      <td>4.00</td>\n",
              "      <td>2.00</td>\n",
              "      <td>3.00</td>\n",
              "      <td>9.00</td>\n",
              "      <td>8.00</td>\n",
              "      <td>C</td>\n",
              "    </tr>\n",
              "  </tbody>\n",
              "</table>\n",
              "</div>"
            ],
            "text/plain": [
              "                  col1                 col2  ...                 col5  col6\n",
              "0                 4.00                 2.00  ...                 4.00     B\n",
              "1                 1.00                 2.50  ...                 0.00     B\n",
              "2                 7.00                 9.00  ...                 2.00     A\n",
              "3                 4.00                 2.00  ...                 8.00     C\n",
              "\n",
              "[4 rows x 6 columns]"
            ]
          },
          "metadata": {
            "tags": []
          },
          "execution_count": 16
        }
      ]
    },
    {
      "cell_type": "code",
      "metadata": {
        "id": "D1c4KZJ8ChQ6"
      },
      "source": [
        "from bl_ml_toolkit import DummyTransformer\n",
        "#to avoid multicolinearity, we discard the dummy for one of category classes, you can choose a medium, first or last category\n",
        "dt = DummyTransformer(reference_class_choice = 'medium')"
      ],
      "execution_count": 17,
      "outputs": []
    },
    {
      "cell_type": "code",
      "metadata": {
        "colab": {
          "base_uri": "https://localhost:8080/",
          "height": 204
        },
        "id": "-ishPkMhCiNG",
        "outputId": "9899b7da-c5f1-44c9-fad5-ec5c3f67061c"
      },
      "source": [
        "dt.fit(df_sample_train_data_2)\n",
        "df_sample_train_data_3 = dt.transform(df_sample_train_data_2)\n",
        "df_sample_train_data_3 #dummy 1 was discarded"
      ],
      "execution_count": 18,
      "outputs": [
        {
          "output_type": "execute_result",
          "data": {
            "text/html": [
              "<div>\n",
              "<style scoped>\n",
              "    .dataframe tbody tr th:only-of-type {\n",
              "        vertical-align: middle;\n",
              "    }\n",
              "\n",
              "    .dataframe tbody tr th {\n",
              "        vertical-align: top;\n",
              "    }\n",
              "\n",
              "    .dataframe thead th {\n",
              "        text-align: right;\n",
              "    }\n",
              "</style>\n",
              "<table border=\"1\" class=\"dataframe\">\n",
              "  <thead>\n",
              "    <tr style=\"text-align: right;\">\n",
              "      <th></th>\n",
              "      <th>col1</th>\n",
              "      <th>col2</th>\n",
              "      <th>col3</th>\n",
              "      <th>col4</th>\n",
              "      <th>col5</th>\n",
              "      <th>col6_dummy_0</th>\n",
              "      <th>col6_dummy_2</th>\n",
              "    </tr>\n",
              "  </thead>\n",
              "  <tbody>\n",
              "    <tr>\n",
              "      <th>0</th>\n",
              "      <td>5.00</td>\n",
              "      <td>1.00</td>\n",
              "      <td>2.00</td>\n",
              "      <td>4.00</td>\n",
              "      <td>4.00</td>\n",
              "      <td>1.00</td>\n",
              "      <td>0.00</td>\n",
              "    </tr>\n",
              "    <tr>\n",
              "      <th>1</th>\n",
              "      <td>2.00</td>\n",
              "      <td>1.00</td>\n",
              "      <td>5.00</td>\n",
              "      <td>5.75</td>\n",
              "      <td>4.00</td>\n",
              "      <td>0.00</td>\n",
              "      <td>0.00</td>\n",
              "    </tr>\n",
              "    <tr>\n",
              "      <th>2</th>\n",
              "      <td>4.00</td>\n",
              "      <td>7.00</td>\n",
              "      <td>5.00</td>\n",
              "      <td>3.00</td>\n",
              "      <td>1.00</td>\n",
              "      <td>0.00</td>\n",
              "      <td>1.00</td>\n",
              "    </tr>\n",
              "    <tr>\n",
              "      <th>3</th>\n",
              "      <td>6.00</td>\n",
              "      <td>2.50</td>\n",
              "      <td>5.00</td>\n",
              "      <td>9.00</td>\n",
              "      <td>3.00</td>\n",
              "      <td>0.00</td>\n",
              "      <td>0.00</td>\n",
              "    </tr>\n",
              "    <tr>\n",
              "      <th>4</th>\n",
              "      <td>3.00</td>\n",
              "      <td>1.00</td>\n",
              "      <td>4.25</td>\n",
              "      <td>7.00</td>\n",
              "      <td>8.00</td>\n",
              "      <td>0.00</td>\n",
              "      <td>0.00</td>\n",
              "    </tr>\n",
              "  </tbody>\n",
              "</table>\n",
              "</div>"
            ],
            "text/plain": [
              "                  col1  ...         col6_dummy_2\n",
              "0                 5.00  ...                 0.00\n",
              "1                 2.00  ...                 0.00\n",
              "2                 4.00  ...                 1.00\n",
              "3                 6.00  ...                 0.00\n",
              "4                 3.00  ...                 0.00\n",
              "\n",
              "[5 rows x 7 columns]"
            ]
          },
          "metadata": {
            "tags": []
          },
          "execution_count": 18
        }
      ]
    },
    {
      "cell_type": "code",
      "metadata": {
        "colab": {
          "base_uri": "https://localhost:8080/",
          "height": 173
        },
        "id": "jG0Miz5QEwCX",
        "outputId": "9b18229c-8280-4bbb-9e24-8b8c6ec06d8d"
      },
      "source": [
        "df_sample_valid_data_3 = dt.transform(df_sample_valid_data_2)\n",
        "df_sample_valid_data_3"
      ],
      "execution_count": 19,
      "outputs": [
        {
          "output_type": "execute_result",
          "data": {
            "text/html": [
              "<div>\n",
              "<style scoped>\n",
              "    .dataframe tbody tr th:only-of-type {\n",
              "        vertical-align: middle;\n",
              "    }\n",
              "\n",
              "    .dataframe tbody tr th {\n",
              "        vertical-align: top;\n",
              "    }\n",
              "\n",
              "    .dataframe thead th {\n",
              "        text-align: right;\n",
              "    }\n",
              "</style>\n",
              "<table border=\"1\" class=\"dataframe\">\n",
              "  <thead>\n",
              "    <tr style=\"text-align: right;\">\n",
              "      <th></th>\n",
              "      <th>col1</th>\n",
              "      <th>col2</th>\n",
              "      <th>col3</th>\n",
              "      <th>col4</th>\n",
              "      <th>col5</th>\n",
              "      <th>col6_dummy_0</th>\n",
              "      <th>col6_dummy_2</th>\n",
              "    </tr>\n",
              "  </thead>\n",
              "  <tbody>\n",
              "    <tr>\n",
              "      <th>0</th>\n",
              "      <td>4.00</td>\n",
              "      <td>2.00</td>\n",
              "      <td>3.00</td>\n",
              "      <td>10.00</td>\n",
              "      <td>4.00</td>\n",
              "      <td>0.00</td>\n",
              "      <td>0.00</td>\n",
              "    </tr>\n",
              "    <tr>\n",
              "      <th>1</th>\n",
              "      <td>1.00</td>\n",
              "      <td>2.50</td>\n",
              "      <td>6.00</td>\n",
              "      <td>1.00</td>\n",
              "      <td>0.00</td>\n",
              "      <td>0.00</td>\n",
              "      <td>0.00</td>\n",
              "    </tr>\n",
              "    <tr>\n",
              "      <th>2</th>\n",
              "      <td>7.00</td>\n",
              "      <td>9.00</td>\n",
              "      <td>4.25</td>\n",
              "      <td>5.75</td>\n",
              "      <td>2.00</td>\n",
              "      <td>1.00</td>\n",
              "      <td>0.00</td>\n",
              "    </tr>\n",
              "    <tr>\n",
              "      <th>3</th>\n",
              "      <td>4.00</td>\n",
              "      <td>2.00</td>\n",
              "      <td>3.00</td>\n",
              "      <td>9.00</td>\n",
              "      <td>8.00</td>\n",
              "      <td>0.00</td>\n",
              "      <td>1.00</td>\n",
              "    </tr>\n",
              "  </tbody>\n",
              "</table>\n",
              "</div>"
            ],
            "text/plain": [
              "                  col1  ...         col6_dummy_2\n",
              "0                 4.00  ...                 0.00\n",
              "1                 1.00  ...                 0.00\n",
              "2                 7.00  ...                 0.00\n",
              "3                 4.00  ...                 1.00\n",
              "\n",
              "[4 rows x 7 columns]"
            ]
          },
          "metadata": {
            "tags": []
          },
          "execution_count": 19
        }
      ]
    },
    {
      "cell_type": "code",
      "metadata": {
        "colab": {
          "base_uri": "https://localhost:8080/"
        },
        "id": "ogbchBEfFdS9",
        "outputId": "ccaab51d-2f78-4c26-ac92-d8318ae7af2e"
      },
      "source": [
        "dt.dummy_map"
      ],
      "execution_count": 20,
      "outputs": [
        {
          "output_type": "execute_result",
          "data": {
            "text/plain": [
              "{'col6': {'A': 0, 'B': 1, 'C': 2}}"
            ]
          },
          "metadata": {
            "tags": []
          },
          "execution_count": 20
        }
      ]
    },
    {
      "cell_type": "code",
      "metadata": {
        "colab": {
          "base_uri": "https://localhost:8080/"
        },
        "id": "eSzP7QalFlXy",
        "outputId": "d4a4aadb-39c4-49f2-ea0d-7fbed24986d5"
      },
      "source": [
        "dt.dummy_inv_map"
      ],
      "execution_count": 21,
      "outputs": [
        {
          "output_type": "execute_result",
          "data": {
            "text/plain": [
              "{'col6': {0: 'A', 1: 'B', 2: 'C'}}"
            ]
          },
          "metadata": {
            "tags": []
          },
          "execution_count": 21
        }
      ]
    },
    {
      "cell_type": "markdown",
      "metadata": {
        "id": "4hucW7AlFscW"
      },
      "source": [
        "# **Importing Titanic Data, in order to use for Feature Selection, Interval Interactive Binning and Nominal Interactive Binning**"
      ]
    },
    {
      "cell_type": "code",
      "metadata": {
        "id": "Uxrd5op6mSuu"
      },
      "source": [
        "data = pd.read_csv('/content/drive/My Drive/Titanic_Data_Set/Titanic.csv')"
      ],
      "execution_count": 22,
      "outputs": []
    },
    {
      "cell_type": "code",
      "metadata": {
        "id": "CWYZBxzdNpB_"
      },
      "source": [
        "data['Family_Name'] = data['Name'].apply(lambda x: str(x).split(',')[0]).astype('category')"
      ],
      "execution_count": 23,
      "outputs": []
    },
    {
      "cell_type": "code",
      "metadata": {
        "id": "doyuC60PwARE"
      },
      "source": [
        "data['Pclass'] = data['Pclass'].astype('category')\n",
        "data['Sex'] = data['Sex'].astype('category')\n",
        "data['Cabin'] = data['Cabin'].astype('category')\n",
        "data['Embarked'] = data['Embarked'].astype('category')"
      ],
      "execution_count": 24,
      "outputs": []
    },
    {
      "cell_type": "code",
      "metadata": {
        "id": "4R9sOwOWK7x7"
      },
      "source": [
        "data = data.drop(['PassengerId', 'Name', 'Ticket'], axis=1)"
      ],
      "execution_count": 25,
      "outputs": []
    },
    {
      "cell_type": "code",
      "metadata": {
        "colab": {
          "base_uri": "https://localhost:8080/"
        },
        "id": "W-skrR0hK_RE",
        "outputId": "cc5d33bc-8172-4c2e-debb-ee1870610787"
      },
      "source": [
        "data.dtypes"
      ],
      "execution_count": 26,
      "outputs": [
        {
          "output_type": "execute_result",
          "data": {
            "text/plain": [
              "Survived          int64\n",
              "Pclass         category\n",
              "Sex            category\n",
              "Age             float64\n",
              "SibSp             int64\n",
              "Parch             int64\n",
              "Fare            float64\n",
              "Cabin          category\n",
              "Embarked       category\n",
              "Family_Name    category\n",
              "dtype: object"
            ]
          },
          "metadata": {
            "tags": []
          },
          "execution_count": 26
        }
      ]
    },
    {
      "cell_type": "code",
      "metadata": {
        "colab": {
          "base_uri": "https://localhost:8080/",
          "height": 419
        },
        "id": "H8wMco2INxjj",
        "outputId": "0d49e829-c455-427c-bcd3-9d60b37f99e2"
      },
      "source": [
        "data"
      ],
      "execution_count": 27,
      "outputs": [
        {
          "output_type": "execute_result",
          "data": {
            "text/html": [
              "<div>\n",
              "<style scoped>\n",
              "    .dataframe tbody tr th:only-of-type {\n",
              "        vertical-align: middle;\n",
              "    }\n",
              "\n",
              "    .dataframe tbody tr th {\n",
              "        vertical-align: top;\n",
              "    }\n",
              "\n",
              "    .dataframe thead th {\n",
              "        text-align: right;\n",
              "    }\n",
              "</style>\n",
              "<table border=\"1\" class=\"dataframe\">\n",
              "  <thead>\n",
              "    <tr style=\"text-align: right;\">\n",
              "      <th></th>\n",
              "      <th>Survived</th>\n",
              "      <th>Pclass</th>\n",
              "      <th>Sex</th>\n",
              "      <th>Age</th>\n",
              "      <th>SibSp</th>\n",
              "      <th>Parch</th>\n",
              "      <th>Fare</th>\n",
              "      <th>Cabin</th>\n",
              "      <th>Embarked</th>\n",
              "      <th>Family_Name</th>\n",
              "    </tr>\n",
              "  </thead>\n",
              "  <tbody>\n",
              "    <tr>\n",
              "      <th>0</th>\n",
              "      <td>0</td>\n",
              "      <td>3</td>\n",
              "      <td>male</td>\n",
              "      <td>22.00</td>\n",
              "      <td>1</td>\n",
              "      <td>0</td>\n",
              "      <td>7.25</td>\n",
              "      <td>NaN</td>\n",
              "      <td>S</td>\n",
              "      <td>Braund</td>\n",
              "    </tr>\n",
              "    <tr>\n",
              "      <th>1</th>\n",
              "      <td>1</td>\n",
              "      <td>1</td>\n",
              "      <td>female</td>\n",
              "      <td>38.00</td>\n",
              "      <td>1</td>\n",
              "      <td>0</td>\n",
              "      <td>71.28</td>\n",
              "      <td>C85</td>\n",
              "      <td>C</td>\n",
              "      <td>Cumings</td>\n",
              "    </tr>\n",
              "    <tr>\n",
              "      <th>2</th>\n",
              "      <td>1</td>\n",
              "      <td>3</td>\n",
              "      <td>female</td>\n",
              "      <td>26.00</td>\n",
              "      <td>0</td>\n",
              "      <td>0</td>\n",
              "      <td>7.92</td>\n",
              "      <td>NaN</td>\n",
              "      <td>S</td>\n",
              "      <td>Heikkinen</td>\n",
              "    </tr>\n",
              "    <tr>\n",
              "      <th>3</th>\n",
              "      <td>1</td>\n",
              "      <td>1</td>\n",
              "      <td>female</td>\n",
              "      <td>35.00</td>\n",
              "      <td>1</td>\n",
              "      <td>0</td>\n",
              "      <td>53.10</td>\n",
              "      <td>C123</td>\n",
              "      <td>S</td>\n",
              "      <td>Futrelle</td>\n",
              "    </tr>\n",
              "    <tr>\n",
              "      <th>4</th>\n",
              "      <td>0</td>\n",
              "      <td>3</td>\n",
              "      <td>male</td>\n",
              "      <td>35.00</td>\n",
              "      <td>0</td>\n",
              "      <td>0</td>\n",
              "      <td>8.05</td>\n",
              "      <td>NaN</td>\n",
              "      <td>S</td>\n",
              "      <td>Allen</td>\n",
              "    </tr>\n",
              "    <tr>\n",
              "      <th>...</th>\n",
              "      <td>...</td>\n",
              "      <td>...</td>\n",
              "      <td>...</td>\n",
              "      <td>...</td>\n",
              "      <td>...</td>\n",
              "      <td>...</td>\n",
              "      <td>...</td>\n",
              "      <td>...</td>\n",
              "      <td>...</td>\n",
              "      <td>...</td>\n",
              "    </tr>\n",
              "    <tr>\n",
              "      <th>886</th>\n",
              "      <td>0</td>\n",
              "      <td>2</td>\n",
              "      <td>male</td>\n",
              "      <td>27.00</td>\n",
              "      <td>0</td>\n",
              "      <td>0</td>\n",
              "      <td>13.00</td>\n",
              "      <td>NaN</td>\n",
              "      <td>S</td>\n",
              "      <td>Montvila</td>\n",
              "    </tr>\n",
              "    <tr>\n",
              "      <th>887</th>\n",
              "      <td>1</td>\n",
              "      <td>1</td>\n",
              "      <td>female</td>\n",
              "      <td>19.00</td>\n",
              "      <td>0</td>\n",
              "      <td>0</td>\n",
              "      <td>30.00</td>\n",
              "      <td>B42</td>\n",
              "      <td>S</td>\n",
              "      <td>Graham</td>\n",
              "    </tr>\n",
              "    <tr>\n",
              "      <th>888</th>\n",
              "      <td>0</td>\n",
              "      <td>3</td>\n",
              "      <td>female</td>\n",
              "      <td>nan</td>\n",
              "      <td>1</td>\n",
              "      <td>2</td>\n",
              "      <td>23.45</td>\n",
              "      <td>NaN</td>\n",
              "      <td>S</td>\n",
              "      <td>Johnston</td>\n",
              "    </tr>\n",
              "    <tr>\n",
              "      <th>889</th>\n",
              "      <td>1</td>\n",
              "      <td>1</td>\n",
              "      <td>male</td>\n",
              "      <td>26.00</td>\n",
              "      <td>0</td>\n",
              "      <td>0</td>\n",
              "      <td>30.00</td>\n",
              "      <td>C148</td>\n",
              "      <td>C</td>\n",
              "      <td>Behr</td>\n",
              "    </tr>\n",
              "    <tr>\n",
              "      <th>890</th>\n",
              "      <td>0</td>\n",
              "      <td>3</td>\n",
              "      <td>male</td>\n",
              "      <td>32.00</td>\n",
              "      <td>0</td>\n",
              "      <td>0</td>\n",
              "      <td>7.75</td>\n",
              "      <td>NaN</td>\n",
              "      <td>Q</td>\n",
              "      <td>Dooley</td>\n",
              "    </tr>\n",
              "  </tbody>\n",
              "</table>\n",
              "<p>891 rows × 10 columns</p>\n",
              "</div>"
            ],
            "text/plain": [
              "     Survived Pclass     Sex  ...  Cabin  Embarked  Family_Name\n",
              "0           0      3    male  ...    NaN         S       Braund\n",
              "1           1      1  female  ...    C85         C      Cumings\n",
              "2           1      3  female  ...    NaN         S    Heikkinen\n",
              "3           1      1  female  ...   C123         S     Futrelle\n",
              "4           0      3    male  ...    NaN         S        Allen\n",
              "..        ...    ...     ...  ...    ...       ...          ...\n",
              "886         0      2    male  ...    NaN         S     Montvila\n",
              "887         1      1  female  ...    B42         S       Graham\n",
              "888         0      3  female  ...    NaN         S     Johnston\n",
              "889         1      1    male  ...   C148         C         Behr\n",
              "890         0      3    male  ...    NaN         Q       Dooley\n",
              "\n",
              "[891 rows x 10 columns]"
            ]
          },
          "metadata": {
            "tags": []
          },
          "execution_count": 27
        }
      ]
    },
    {
      "cell_type": "code",
      "metadata": {
        "id": "4eEBE7FJ_2RM"
      },
      "source": [
        "X_data = data.drop(['Survived'], axis=1)\n",
        "Y_data = data[['Survived']]"
      ],
      "execution_count": 28,
      "outputs": []
    },
    {
      "cell_type": "code",
      "metadata": {
        "id": "-WsvGWuDCD7V"
      },
      "source": [
        "from sklearn.model_selection import train_test_split\n",
        "X_data_train, X_data_test, Y_data_train, Y_data_test = train_test_split(X_data, Y_data, test_size=0.33, random_state=54321)"
      ],
      "execution_count": 29,
      "outputs": []
    },
    {
      "cell_type": "code",
      "metadata": {
        "id": "ZVsC3bsEBSbv"
      },
      "source": [
        "imv = ImputMissingValues(missing_threshold=0.5)"
      ],
      "execution_count": 30,
      "outputs": []
    },
    {
      "cell_type": "code",
      "metadata": {
        "id": "lbIGztHJBnSf"
      },
      "source": [
        "X_data_train_2 = imv.fit_transform(x = X_data_train)"
      ],
      "execution_count": 31,
      "outputs": []
    },
    {
      "cell_type": "code",
      "metadata": {
        "id": "SF2ROZL_CoZg"
      },
      "source": [
        "X_data_test_2 = imv.transform(x = X_data_test)"
      ],
      "execution_count": 32,
      "outputs": []
    },
    {
      "cell_type": "code",
      "metadata": {
        "colab": {
          "base_uri": "https://localhost:8080/",
          "height": 352
        },
        "id": "IC79Sti4HKTF",
        "outputId": "e6faa58b-68d2-4fda-fffb-0de7685ecbb6"
      },
      "source": [
        "imv.plot_missing()"
      ],
      "execution_count": 33,
      "outputs": [
        {
          "output_type": "display_data",
          "data": {
            "image/png": "[encoded data removed]",
            "text/plain": [
              "<Figure size 504x360 with 1 Axes>"
            ]
          },
          "metadata": {
            "tags": []
          }
        }
      ]
    },
    {
      "cell_type": "markdown",
      "metadata": {
        "id": "mVYyj-XhKUxL"
      },
      "source": [
        "# **Regularization Feature Selection**"
      ]
    },
    {
      "cell_type": "markdown",
      "metadata": {
        "id": "6nL3UGFnlR6U"
      },
      "source": [
        "We implement a class to do feature selection, making use of a Lasso Regression, removing features with coef equals to zero."
      ]
    },
    {
      "cell_type": "code",
      "metadata": {
        "id": "bJuied4REkDN"
      },
      "source": [
        "from bl_ml_toolkit import RegularizationFeatureSelection\n",
        "rvs = RegularizationFeatureSelection(n_folds=1, RegularizationStrength=0.1)"
      ],
      "execution_count": 34,
      "outputs": []
    },
    {
      "cell_type": "code",
      "metadata": {
        "colab": {
          "base_uri": "https://localhost:8080/",
          "height": 419
        },
        "id": "ZYiekC4fPgPp",
        "outputId": "1cb4fbe0-7000-4c3c-c5e2-272c2ffdd567"
      },
      "source": [
        "X_data_train_2"
      ],
      "execution_count": 35,
      "outputs": [
        {
          "output_type": "execute_result",
          "data": {
            "text/html": [
              "<div>\n",
              "<style scoped>\n",
              "    .dataframe tbody tr th:only-of-type {\n",
              "        vertical-align: middle;\n",
              "    }\n",
              "\n",
              "    .dataframe tbody tr th {\n",
              "        vertical-align: top;\n",
              "    }\n",
              "\n",
              "    .dataframe thead th {\n",
              "        text-align: right;\n",
              "    }\n",
              "</style>\n",
              "<table border=\"1\" class=\"dataframe\">\n",
              "  <thead>\n",
              "    <tr style=\"text-align: right;\">\n",
              "      <th></th>\n",
              "      <th>Pclass</th>\n",
              "      <th>Sex</th>\n",
              "      <th>Age</th>\n",
              "      <th>SibSp</th>\n",
              "      <th>Parch</th>\n",
              "      <th>Fare</th>\n",
              "      <th>Embarked</th>\n",
              "      <th>Family_Name</th>\n",
              "    </tr>\n",
              "  </thead>\n",
              "  <tbody>\n",
              "    <tr>\n",
              "      <th>300</th>\n",
              "      <td>3</td>\n",
              "      <td>female</td>\n",
              "      <td>29.72</td>\n",
              "      <td>0</td>\n",
              "      <td>0</td>\n",
              "      <td>7.75</td>\n",
              "      <td>Q</td>\n",
              "      <td>Kelly</td>\n",
              "    </tr>\n",
              "    <tr>\n",
              "      <th>618</th>\n",
              "      <td>2</td>\n",
              "      <td>female</td>\n",
              "      <td>4.00</td>\n",
              "      <td>2</td>\n",
              "      <td>1</td>\n",
              "      <td>39.00</td>\n",
              "      <td>S</td>\n",
              "      <td>Becker</td>\n",
              "    </tr>\n",
              "    <tr>\n",
              "      <th>165</th>\n",
              "      <td>3</td>\n",
              "      <td>male</td>\n",
              "      <td>9.00</td>\n",
              "      <td>0</td>\n",
              "      <td>2</td>\n",
              "      <td>20.52</td>\n",
              "      <td>S</td>\n",
              "      <td>Goldsmith</td>\n",
              "    </tr>\n",
              "    <tr>\n",
              "      <th>780</th>\n",
              "      <td>3</td>\n",
              "      <td>female</td>\n",
              "      <td>13.00</td>\n",
              "      <td>0</td>\n",
              "      <td>0</td>\n",
              "      <td>7.23</td>\n",
              "      <td>C</td>\n",
              "      <td>Ayoub</td>\n",
              "    </tr>\n",
              "    <tr>\n",
              "      <th>664</th>\n",
              "      <td>3</td>\n",
              "      <td>male</td>\n",
              "      <td>20.00</td>\n",
              "      <td>1</td>\n",
              "      <td>0</td>\n",
              "      <td>7.92</td>\n",
              "      <td>S</td>\n",
              "      <td>Lindqvist</td>\n",
              "    </tr>\n",
              "    <tr>\n",
              "      <th>...</th>\n",
              "      <td>...</td>\n",
              "      <td>...</td>\n",
              "      <td>...</td>\n",
              "      <td>...</td>\n",
              "      <td>...</td>\n",
              "      <td>...</td>\n",
              "      <td>...</td>\n",
              "      <td>...</td>\n",
              "    </tr>\n",
              "    <tr>\n",
              "      <th>150</th>\n",
              "      <td>2</td>\n",
              "      <td>male</td>\n",
              "      <td>51.00</td>\n",
              "      <td>0</td>\n",
              "      <td>0</td>\n",
              "      <td>12.53</td>\n",
              "      <td>S</td>\n",
              "      <td>Bateman</td>\n",
              "    </tr>\n",
              "    <tr>\n",
              "      <th>96</th>\n",
              "      <td>1</td>\n",
              "      <td>male</td>\n",
              "      <td>71.00</td>\n",
              "      <td>0</td>\n",
              "      <td>0</td>\n",
              "      <td>34.65</td>\n",
              "      <td>C</td>\n",
              "      <td>Goldschmidt</td>\n",
              "    </tr>\n",
              "    <tr>\n",
              "      <th>26</th>\n",
              "      <td>3</td>\n",
              "      <td>male</td>\n",
              "      <td>29.72</td>\n",
              "      <td>0</td>\n",
              "      <td>0</td>\n",
              "      <td>7.22</td>\n",
              "      <td>C</td>\n",
              "      <td>Emir</td>\n",
              "    </tr>\n",
              "    <tr>\n",
              "      <th>650</th>\n",
              "      <td>3</td>\n",
              "      <td>male</td>\n",
              "      <td>29.72</td>\n",
              "      <td>0</td>\n",
              "      <td>0</td>\n",
              "      <td>7.90</td>\n",
              "      <td>S</td>\n",
              "      <td>Mitkoff</td>\n",
              "    </tr>\n",
              "    <tr>\n",
              "      <th>593</th>\n",
              "      <td>3</td>\n",
              "      <td>female</td>\n",
              "      <td>29.72</td>\n",
              "      <td>0</td>\n",
              "      <td>2</td>\n",
              "      <td>7.75</td>\n",
              "      <td>Q</td>\n",
              "      <td>Bourke</td>\n",
              "    </tr>\n",
              "  </tbody>\n",
              "</table>\n",
              "<p>596 rows × 8 columns</p>\n",
              "</div>"
            ],
            "text/plain": [
              "    Pclass     Sex  ...  Embarked  Family_Name\n",
              "300      3  female  ...         Q        Kelly\n",
              "618      2  female  ...         S       Becker\n",
              "165      3    male  ...         S    Goldsmith\n",
              "780      3  female  ...         C        Ayoub\n",
              "664      3    male  ...         S    Lindqvist\n",
              "..     ...     ...  ...       ...          ...\n",
              "150      2    male  ...         S      Bateman\n",
              "96       1    male  ...         C  Goldschmidt\n",
              "26       3    male  ...         C         Emir\n",
              "650      3    male  ...         S      Mitkoff\n",
              "593      3  female  ...         Q       Bourke\n",
              "\n",
              "[596 rows x 8 columns]"
            ]
          },
          "metadata": {
            "tags": []
          },
          "execution_count": 35
        }
      ]
    },
    {
      "cell_type": "code",
      "metadata": {
        "id": "-0tr12EyFYNC",
        "colab": {
          "base_uri": "https://localhost:8080/"
        },
        "outputId": "e76c0577-d9d6-4b56-90f3-c461220bef29"
      },
      "source": [
        "X_data_train_3 = rvs.fit_transform(X_data_train_2, Y_data_train)"
      ],
      "execution_count": 36,
      "outputs": [
        {
          "output_type": "stream",
          "text": [
            "Training Lasso Regression Model\n",
            "\n"
          ],
          "name": "stdout"
        },
        {
          "output_type": "stream",
          "text": [
            "/usr/local/lib/python3.6/dist-packages/sklearn/utils/validation.py:760: DataConversionWarning: A column-vector y was passed when a 1d array was expected. Please change the shape of y to (n_samples, ), for example using ravel().\n",
            "  y = column_or_1d(y, warn=True)\n"
          ],
          "name": "stderr"
        }
      ]
    },
    {
      "cell_type": "code",
      "metadata": {
        "id": "1pM0Z1jYFpIQ"
      },
      "source": [
        "X_data_test_3 = rvs.transform(X_data_test_2)"
      ],
      "execution_count": 37,
      "outputs": []
    },
    {
      "cell_type": "code",
      "metadata": {
        "colab": {
          "base_uri": "https://localhost:8080/"
        },
        "id": "A8dbXKNIPD_E",
        "outputId": "59a0013e-2302-4c39-8245-96e6fe9a8fe0"
      },
      "source": [
        "print('before...', X_data_train_2.shape)\n",
        "print('after...', X_data_train_3.shape)"
      ],
      "execution_count": 38,
      "outputs": [
        {
          "output_type": "stream",
          "text": [
            "before... (596, 8)\n",
            "after... (596, 7)\n"
          ],
          "name": "stdout"
        }
      ]
    },
    {
      "cell_type": "code",
      "metadata": {
        "colab": {
          "base_uri": "https://localhost:8080/"
        },
        "id": "wxH1b-CkOzU2",
        "outputId": "98353026-aed5-45da-ea1f-00096ba5df57"
      },
      "source": [
        "rvs.drop_list_zero_coeficient"
      ],
      "execution_count": 39,
      "outputs": [
        {
          "output_type": "execute_result",
          "data": {
            "text/plain": [
              "['Parch']"
            ]
          },
          "metadata": {
            "tags": []
          },
          "execution_count": 39
        }
      ]
    },
    {
      "cell_type": "code",
      "metadata": {
        "id": "z_RvwRhIObdJ",
        "colab": {
          "base_uri": "https://localhost:8080/",
          "height": 409
        },
        "outputId": "6777a160-28fe-486a-cc26-3f567feb0db7"
      },
      "source": [
        "rvs.plot_feature_coefs(plot_n=25)"
      ],
      "execution_count": 40,
      "outputs": [
        {
          "output_type": "display_data",
          "data": {
            "image/png": "[encoded data removed]",
            "text/plain": [
              "<Figure size 720x432 with 1 Axes>"
            ]
          },
          "metadata": {
            "tags": []
          }
        }
      ]
    },
    {
      "cell_type": "code",
      "metadata": {
        "colab": {
          "base_uri": "https://localhost:8080/",
          "height": 419
        },
        "id": "V6lVcqxjORWH",
        "outputId": "1d04c91c-08c7-4a19-80c8-6ca027140507"
      },
      "source": [
        "rvs.dfAbsoluteCoefs"
      ],
      "execution_count": 41,
      "outputs": [
        {
          "output_type": "execute_result",
          "data": {
            "text/html": [
              "<div>\n",
              "<style scoped>\n",
              "    .dataframe tbody tr th:only-of-type {\n",
              "        vertical-align: middle;\n",
              "    }\n",
              "\n",
              "    .dataframe tbody tr th {\n",
              "        vertical-align: top;\n",
              "    }\n",
              "\n",
              "    .dataframe thead th {\n",
              "        text-align: right;\n",
              "    }\n",
              "</style>\n",
              "<table border=\"1\" class=\"dataframe\">\n",
              "  <thead>\n",
              "    <tr style=\"text-align: right;\">\n",
              "      <th></th>\n",
              "      <th>feature</th>\n",
              "      <th>coef</th>\n",
              "      <th>absolute_coef</th>\n",
              "    </tr>\n",
              "  </thead>\n",
              "  <tbody>\n",
              "    <tr>\n",
              "      <th>5</th>\n",
              "      <td>Sex_dummy_1</td>\n",
              "      <td>-1.50</td>\n",
              "      <td>1.50</td>\n",
              "    </tr>\n",
              "    <tr>\n",
              "      <th>4</th>\n",
              "      <td>Pclass_dummy_2</td>\n",
              "      <td>-0.45</td>\n",
              "      <td>0.45</td>\n",
              "    </tr>\n",
              "    <tr>\n",
              "      <th>3</th>\n",
              "      <td>Pclass_dummy_0</td>\n",
              "      <td>0.34</td>\n",
              "      <td>0.34</td>\n",
              "    </tr>\n",
              "    <tr>\n",
              "      <th>82</th>\n",
              "      <td>Family_Name_dummy_294</td>\n",
              "      <td>0.20</td>\n",
              "      <td>0.20</td>\n",
              "    </tr>\n",
              "    <tr>\n",
              "      <th>0</th>\n",
              "      <td>Age</td>\n",
              "      <td>-0.20</td>\n",
              "      <td>0.20</td>\n",
              "    </tr>\n",
              "    <tr>\n",
              "      <th>...</th>\n",
              "      <td>...</td>\n",
              "      <td>...</td>\n",
              "      <td>...</td>\n",
              "    </tr>\n",
              "    <tr>\n",
              "      <th>53</th>\n",
              "      <td>Family_Name_dummy_174</td>\n",
              "      <td>0.01</td>\n",
              "      <td>0.01</td>\n",
              "    </tr>\n",
              "    <tr>\n",
              "      <th>6</th>\n",
              "      <td>Embarked_dummy_0</td>\n",
              "      <td>0.00</td>\n",
              "      <td>0.00</td>\n",
              "    </tr>\n",
              "    <tr>\n",
              "      <th>14</th>\n",
              "      <td>Family_Name_dummy_22</td>\n",
              "      <td>0.00</td>\n",
              "      <td>0.00</td>\n",
              "    </tr>\n",
              "    <tr>\n",
              "      <th>94</th>\n",
              "      <td>Family_Name_dummy_388</td>\n",
              "      <td>0.00</td>\n",
              "      <td>0.00</td>\n",
              "    </tr>\n",
              "    <tr>\n",
              "      <th>115</th>\n",
              "      <td>Parch</td>\n",
              "      <td>0.00</td>\n",
              "      <td>0.00</td>\n",
              "    </tr>\n",
              "  </tbody>\n",
              "</table>\n",
              "<p>116 rows × 3 columns</p>\n",
              "</div>"
            ],
            "text/plain": [
              "                   feature                 coef        absolute_coef\n",
              "5              Sex_dummy_1                -1.50                 1.50\n",
              "4           Pclass_dummy_2                -0.45                 0.45\n",
              "3           Pclass_dummy_0                 0.34                 0.34\n",
              "82   Family_Name_dummy_294                 0.20                 0.20\n",
              "0                      Age                -0.20                 0.20\n",
              "..                     ...                  ...                  ...\n",
              "53   Family_Name_dummy_174                 0.01                 0.01\n",
              "6         Embarked_dummy_0                 0.00                 0.00\n",
              "14    Family_Name_dummy_22                 0.00                 0.00\n",
              "94   Family_Name_dummy_388                 0.00                 0.00\n",
              "115                  Parch                 0.00                 0.00\n",
              "\n",
              "[116 rows x 3 columns]"
            ]
          },
          "metadata": {
            "tags": []
          },
          "execution_count": 41
        }
      ]
    },
    {
      "cell_type": "code",
      "metadata": {
        "id": "Mqex2ksrOvuR"
      },
      "source": [
        "X_data_test_3 = rvs.transform(X_data_test_2)"
      ],
      "execution_count": 42,
      "outputs": []
    },
    {
      "cell_type": "code",
      "metadata": {
        "id": "Jrwi2HbGARjQ",
        "colab": {
          "base_uri": "https://localhost:8080/"
        },
        "outputId": "7911e35a-8b43-4244-f1cd-ea9f3721daf1"
      },
      "source": [
        "print('before...', X_data_test_2.shape)\n",
        "print('after...', X_data_test_3.shape)"
      ],
      "execution_count": 43,
      "outputs": [
        {
          "output_type": "stream",
          "text": [
            "before... (295, 8)\n",
            "after... (295, 7)\n"
          ],
          "name": "stdout"
        }
      ]
    },
    {
      "cell_type": "markdown",
      "metadata": {
        "id": "AE5V7z7hLcz7"
      },
      "source": [
        "# **Optimal Interval Binning**"
      ]
    },
    {
      "cell_type": "markdown",
      "metadata": {
        "id": "casQ142fluzB"
      },
      "source": [
        "This class can be used to discretizate numerical features, in a optimal way, splitting in several ordinal groups, and making use of statistical hypothesis test for each neighboor groups to hierarquically, to merge groups that are not statistical different.\n",
        "\n",
        "After finishing the process for all numerical features, we can change the ranges interactvily to improve or simplify de range sets."
      ]
    },
    {
      "cell_type": "code",
      "metadata": {
        "id": "3BFso0QgZRXl"
      },
      "source": [
        "oib = OptimalIntervalBinning(sigLevel=0.1, n_rank_groups=10)"
      ],
      "execution_count": 86,
      "outputs": []
    },
    {
      "cell_type": "code",
      "metadata": {
        "id": "G1sUXdT8Zrte",
        "colab": {
          "base_uri": "https://localhost:8080/"
        },
        "outputId": "9bad9701-c95c-463b-bab7-931cd3c26b76"
      },
      "source": [
        "oib.fit(X_data_train_3[['Age']], Y_data_train)"
      ],
      "execution_count": 87,
      "outputs": [
        {
          "output_type": "stream",
          "text": [
            "Age\n",
            "    countColumn Survived                                       Age  \\\n",
            "            sum      sum                 mean                 amin   \n",
            "bin                                                                  \n",
            "0            30       22                 0.73                 0.42   \n",
            "1            63       26                 0.41                 7.00   \n",
            "2            65       16                 0.25                19.00   \n",
            "3            46       18                 0.39                23.00   \n",
            "4            58       20                 0.34                26.00   \n",
            "5           110       30                 0.27                29.72   \n",
            "6            21        9                 0.43                30.00   \n",
            "7            54       30                 0.56                30.50   \n",
            "8            63       25                 0.40                36.00   \n",
            "9            56       24                 0.43                43.00   \n",
            "10           30       11                 0.37                55.00   \n",
            "\n",
            "                          \n",
            "                    amax  \n",
            "bin                       \n",
            "0                   6.00  \n",
            "1                  18.00  \n",
            "2                  22.00  \n",
            "3                  25.00  \n",
            "4                  29.00  \n",
            "5                  29.72  \n",
            "6                  30.00  \n",
            "7                  35.00  \n",
            "8                  42.00  \n",
            "9                  54.00  \n",
            "10                 80.00  \n",
            "current: 8.0 next_bin: 9.0 p_value: 0.7254227508382325 n_current_bin: 63.0 n_next_bin: 56.0 p_current_bin: 0.3968253968253968 p_next_bin: 0.42857142857142855\n",
            "8.0  now is 9.0\n",
            "    countColumn Survived                                       Age  \\\n",
            "            sum      sum                 mean                 amin   \n",
            "bin                                                                  \n",
            "0            30       22                 0.73                 0.42   \n",
            "1            63       26                 0.41                 7.00   \n",
            "2            65       16                 0.25                19.00   \n",
            "3            46       18                 0.39                23.00   \n",
            "4            58       20                 0.34                26.00   \n",
            "5           110       30                 0.27                29.72   \n",
            "6            21        9                 0.43                30.00   \n",
            "7            54       30                 0.56                30.50   \n",
            "9           119       49                 0.41                36.00   \n",
            "10           30       11                 0.37                55.00   \n",
            "\n",
            "                          \n",
            "                    amax  \n",
            "bin                       \n",
            "0                   6.00  \n",
            "1                  18.00  \n",
            "2                  22.00  \n",
            "3                  25.00  \n",
            "4                  29.00  \n",
            "5                  29.72  \n",
            "6                  30.00  \n",
            "7                  35.00  \n",
            "9                  54.00  \n",
            "10                 80.00  \n",
            "current: 9.0 next_bin: 10.0 p_value: 0.652634405643824 n_current_bin: 119.0 n_next_bin: 30.0 p_current_bin: 0.4117647058823529 p_next_bin: 0.36666666666666664\n",
            "9.0  now is 10.0\n",
            "    countColumn Survived                                       Age  \\\n",
            "            sum      sum                 mean                 amin   \n",
            "bin                                                                  \n",
            "0            30       22                 0.73                 0.42   \n",
            "1            63       26                 0.41                 7.00   \n",
            "2            65       16                 0.25                19.00   \n",
            "3            46       18                 0.39                23.00   \n",
            "4            58       20                 0.34                26.00   \n",
            "5           110       30                 0.27                29.72   \n",
            "6            21        9                 0.43                30.00   \n",
            "7            54       30                 0.56                30.50   \n",
            "10          149       60                 0.40                36.00   \n",
            "\n",
            "                          \n",
            "                    amax  \n",
            "bin                       \n",
            "0                   6.00  \n",
            "1                  18.00  \n",
            "2                  22.00  \n",
            "3                  25.00  \n",
            "4                  29.00  \n",
            "5                  29.72  \n",
            "6                  30.00  \n",
            "7                  35.00  \n",
            "10                 80.00  \n",
            "current: 3.0 next_bin: 4.0 p_value: 0.6249430695200784 n_current_bin: 46.0 n_next_bin: 58.0 p_current_bin: 0.391304347826087 p_next_bin: 0.3448275862068966\n",
            "3.0  now is 4.0\n",
            "    countColumn Survived                                       Age  \\\n",
            "            sum      sum                 mean                 amin   \n",
            "bin                                                                  \n",
            "0            30       22                 0.73                 0.42   \n",
            "1            63       26                 0.41                 7.00   \n",
            "2            65       16                 0.25                19.00   \n",
            "4           104       38                 0.37                23.00   \n",
            "5           110       30                 0.27                29.72   \n",
            "6            21        9                 0.43                30.00   \n",
            "7            54       30                 0.56                30.50   \n",
            "10          149       60                 0.40                36.00   \n",
            "\n",
            "                          \n",
            "                    amax  \n",
            "bin                       \n",
            "0                   6.00  \n",
            "1                  18.00  \n",
            "2                  22.00  \n",
            "4                  29.00  \n",
            "5                  29.72  \n",
            "6                  30.00  \n",
            "7                  35.00  \n",
            "10                 80.00  \n",
            "current: 6.0 next_bin: 7.0 p_value: 0.32298987166247983 n_current_bin: 21.0 n_next_bin: 54.0 p_current_bin: 0.42857142857142855 p_next_bin: 0.5555555555555556\n",
            "6.0  now is 7.0\n",
            "    countColumn Survived                                       Age  \\\n",
            "            sum      sum                 mean                 amin   \n",
            "bin                                                                  \n",
            "0            30       22                 0.73                 0.42   \n",
            "1            63       26                 0.41                 7.00   \n",
            "2            65       16                 0.25                19.00   \n",
            "4           104       38                 0.37                23.00   \n",
            "5           110       30                 0.27                29.72   \n",
            "7            75       39                 0.52                30.00   \n",
            "10          149       60                 0.40                36.00   \n",
            "\n",
            "                          \n",
            "                    amax  \n",
            "bin                       \n",
            "0                   6.00  \n",
            "1                  18.00  \n",
            "2                  22.00  \n",
            "4                  29.00  \n",
            "5                  29.72  \n",
            "7                  35.00  \n",
            "10                 80.00  \n",
            "current: 4.0 next_bin: 5.0 p_value: 0.1456638244176057 n_current_bin: 104.0 n_next_bin: 110.0 p_current_bin: 0.36538461538461536 p_next_bin: 0.2727272727272727\n",
            "4.0  now is 5.0\n",
            "    countColumn Survived                                       Age  \\\n",
            "            sum      sum                 mean                 amin   \n",
            "bin                                                                  \n",
            "0            30       22                 0.73                 0.42   \n",
            "1            63       26                 0.41                 7.00   \n",
            "2            65       16                 0.25                19.00   \n",
            "5           214       68                 0.32                23.00   \n",
            "7            75       39                 0.52                30.00   \n",
            "10          149       60                 0.40                36.00   \n",
            "\n",
            "                          \n",
            "                    amax  \n",
            "bin                       \n",
            "0                   6.00  \n",
            "1                  18.00  \n",
            "2                  22.00  \n",
            "5                  29.72  \n",
            "7                  35.00  \n",
            "10                 80.00  \n",
            "current: 2.0 next_bin: 5.0 p_value: 0.2703962209118633 n_current_bin: 65.0 n_next_bin: 214.0 p_current_bin: 0.24615384615384617 p_next_bin: 0.3177570093457944\n",
            "2.0  now is 5.0\n",
            "    countColumn Survived                                       Age  \\\n",
            "            sum      sum                 mean                 amin   \n",
            "bin                                                                  \n",
            "0            30       22                 0.73                 0.42   \n",
            "1            63       26                 0.41                 7.00   \n",
            "5           279       84                 0.30                19.00   \n",
            "7            75       39                 0.52                30.00   \n",
            "10          149       60                 0.40                36.00   \n",
            "\n",
            "                          \n",
            "                    amax  \n",
            "bin                       \n",
            "0                   6.00  \n",
            "1                  18.00  \n",
            "5                  29.72  \n",
            "7                  35.00  \n",
            "10                 80.00  \n",
            "Process finished\n"
          ],
          "name": "stdout"
        }
      ]
    },
    {
      "cell_type": "markdown",
      "metadata": {
        "id": "CZWFff9pLjWb"
      },
      "source": [
        "## **Interactive Binning**"
      ]
    },
    {
      "cell_type": "code",
      "metadata": {
        "id": "S0k-JkwMuunK",
        "colab": {
          "base_uri": "https://localhost:8080/"
        },
        "outputId": "7c471866-fd2b-4443-aa3f-b406a2edf68e"
      },
      "source": [
        "[f for f in oib.statistics]"
      ],
      "execution_count": 88,
      "outputs": [
        {
          "output_type": "execute_result",
          "data": {
            "text/plain": [
              "['Age']"
            ]
          },
          "metadata": {
            "tags": []
          },
          "execution_count": 88
        }
      ]
    },
    {
      "cell_type": "markdown",
      "metadata": {
        "id": "d98aJ__6nji9"
      },
      "source": [
        "Here we can see the range set learned by the fit method."
      ]
    },
    {
      "cell_type": "code",
      "metadata": {
        "colab": {
          "base_uri": "https://localhost:8080/",
          "height": 173
        },
        "id": "ZHD6jpsacRCu",
        "outputId": "e7193a90-ad2f-45e1-b27f-d1f1e8f6b7bd"
      },
      "source": [
        "feature = 'Age'\n",
        "oib.reset_feature(feature)\n",
        "oib.original_statistics[feature]"
      ],
      "execution_count": 89,
      "outputs": [
        {
          "output_type": "execute_result",
          "data": {
            "text/html": [
              "<div>\n",
              "<style scoped>\n",
              "    .dataframe tbody tr th:only-of-type {\n",
              "        vertical-align: middle;\n",
              "    }\n",
              "\n",
              "    .dataframe tbody tr th {\n",
              "        vertical-align: top;\n",
              "    }\n",
              "\n",
              "    .dataframe thead th {\n",
              "        text-align: right;\n",
              "    }\n",
              "</style>\n",
              "<table border=\"1\" class=\"dataframe\">\n",
              "  <thead>\n",
              "    <tr style=\"text-align: right;\">\n",
              "      <th></th>\n",
              "      <th>n_range</th>\n",
              "      <th>lower_bondary</th>\n",
              "      <th>upper_bondary</th>\n",
              "      <th>n_obs</th>\n",
              "      <th>n_events</th>\n",
              "      <th>event_rate</th>\n",
              "    </tr>\n",
              "  </thead>\n",
              "  <tbody>\n",
              "    <tr>\n",
              "      <th>0</th>\n",
              "      <td>0.00</td>\n",
              "      <td>-inf</td>\n",
              "      <td>18.00</td>\n",
              "      <td>75</td>\n",
              "      <td>41</td>\n",
              "      <td>0.55</td>\n",
              "    </tr>\n",
              "    <tr>\n",
              "      <th>1</th>\n",
              "      <td>1.00</td>\n",
              "      <td>18.00</td>\n",
              "      <td>29.72</td>\n",
              "      <td>187</td>\n",
              "      <td>61</td>\n",
              "      <td>0.33</td>\n",
              "    </tr>\n",
              "    <tr>\n",
              "      <th>2</th>\n",
              "      <td>2.00</td>\n",
              "      <td>29.72</td>\n",
              "      <td>35.00</td>\n",
              "      <td>175</td>\n",
              "      <td>62</td>\n",
              "      <td>0.35</td>\n",
              "    </tr>\n",
              "    <tr>\n",
              "      <th>3</th>\n",
              "      <td>3.00</td>\n",
              "      <td>35.00</td>\n",
              "      <td>inf</td>\n",
              "      <td>159</td>\n",
              "      <td>67</td>\n",
              "      <td>0.42</td>\n",
              "    </tr>\n",
              "  </tbody>\n",
              "</table>\n",
              "</div>"
            ],
            "text/plain": [
              "               n_range        lower_bondary  ...  n_events           event_rate\n",
              "0                 0.00                 -inf  ...        41                 0.55\n",
              "1                 1.00                18.00  ...        61                 0.33\n",
              "2                 2.00                29.72  ...        62                 0.35\n",
              "3                 3.00                35.00  ...        67                 0.42\n",
              "\n",
              "[4 rows x 6 columns]"
            ]
          },
          "metadata": {
            "tags": []
          },
          "execution_count": 89
        }
      ]
    },
    {
      "cell_type": "markdown",
      "metadata": {
        "id": "8eXsMQX4nphb"
      },
      "source": [
        "Is it possible to change the ranges, using a splitRange method to split a range with a bondary."
      ]
    },
    {
      "cell_type": "code",
      "metadata": {
        "colab": {
          "base_uri": "https://localhost:8080/",
          "height": 204
        },
        "id": "dtsNJF1hciWZ",
        "outputId": "e60f323c-e100-41fa-8e75-bfc15934edc8"
      },
      "source": [
        "oib.splitRange(feature=feature, split_range=0, split_value=12)\n",
        "oib.statistics[feature]"
      ],
      "execution_count": 90,
      "outputs": [
        {
          "output_type": "execute_result",
          "data": {
            "text/html": [
              "<div>\n",
              "<style scoped>\n",
              "    .dataframe tbody tr th:only-of-type {\n",
              "        vertical-align: middle;\n",
              "    }\n",
              "\n",
              "    .dataframe tbody tr th {\n",
              "        vertical-align: top;\n",
              "    }\n",
              "\n",
              "    .dataframe thead tr th {\n",
              "        text-align: left;\n",
              "    }\n",
              "</style>\n",
              "<table border=\"1\" class=\"dataframe\">\n",
              "  <thead>\n",
              "    <tr>\n",
              "      <th></th>\n",
              "      <th>n_range</th>\n",
              "      <th>lower_bondary</th>\n",
              "      <th>upper_bondary</th>\n",
              "      <th>n_obs</th>\n",
              "      <th>n_events</th>\n",
              "      <th>event_rate</th>\n",
              "    </tr>\n",
              "  </thead>\n",
              "  <tbody>\n",
              "    <tr>\n",
              "      <th>0</th>\n",
              "      <td>0.00</td>\n",
              "      <td>-inf</td>\n",
              "      <td>12.00</td>\n",
              "      <td>46</td>\n",
              "      <td>27</td>\n",
              "      <td>0.59</td>\n",
              "    </tr>\n",
              "    <tr>\n",
              "      <th>1</th>\n",
              "      <td>1.00</td>\n",
              "      <td>12.00</td>\n",
              "      <td>18.00</td>\n",
              "      <td>29</td>\n",
              "      <td>14</td>\n",
              "      <td>0.48</td>\n",
              "    </tr>\n",
              "    <tr>\n",
              "      <th>2</th>\n",
              "      <td>2.00</td>\n",
              "      <td>18.00</td>\n",
              "      <td>29.72</td>\n",
              "      <td>187</td>\n",
              "      <td>61</td>\n",
              "      <td>0.33</td>\n",
              "    </tr>\n",
              "    <tr>\n",
              "      <th>3</th>\n",
              "      <td>3.00</td>\n",
              "      <td>29.72</td>\n",
              "      <td>35.00</td>\n",
              "      <td>175</td>\n",
              "      <td>62</td>\n",
              "      <td>0.35</td>\n",
              "    </tr>\n",
              "    <tr>\n",
              "      <th>4</th>\n",
              "      <td>4.00</td>\n",
              "      <td>35.00</td>\n",
              "      <td>inf</td>\n",
              "      <td>159</td>\n",
              "      <td>67</td>\n",
              "      <td>0.42</td>\n",
              "    </tr>\n",
              "  </tbody>\n",
              "</table>\n",
              "</div>"
            ],
            "text/plain": [
              "               n_range        lower_bondary  ... n_events           event_rate\n",
              "0                 0.00                 -inf  ...       27                 0.59\n",
              "1                 1.00                12.00  ...       14                 0.48\n",
              "2                 2.00                18.00  ...       61                 0.33\n",
              "3                 3.00                29.72  ...       62                 0.35\n",
              "4                 4.00                35.00  ...       67                 0.42\n",
              "\n",
              "[5 rows x 6 columns]"
            ]
          },
          "metadata": {
            "tags": []
          },
          "execution_count": 90
        }
      ]
    },
    {
      "cell_type": "markdown",
      "metadata": {
        "id": "uOao93ofn2qV"
      },
      "source": [
        "We can also merge 2 or more following ranges, through mergeRange method."
      ]
    },
    {
      "cell_type": "code",
      "metadata": {
        "colab": {
          "base_uri": "https://localhost:8080/",
          "height": 173
        },
        "id": "GyVe0eDddke9",
        "outputId": "c568229b-bb7c-43d5-fbde-e9d662730cbb"
      },
      "source": [
        "oib.mergeRange(feature=feature, new_start_range=2, new_end_range=3)\n",
        "oib.statistics[feature]"
      ],
      "execution_count": 91,
      "outputs": [
        {
          "output_type": "execute_result",
          "data": {
            "text/html": [
              "<div>\n",
              "<style scoped>\n",
              "    .dataframe tbody tr th:only-of-type {\n",
              "        vertical-align: middle;\n",
              "    }\n",
              "\n",
              "    .dataframe tbody tr th {\n",
              "        vertical-align: top;\n",
              "    }\n",
              "\n",
              "    .dataframe thead tr th {\n",
              "        text-align: left;\n",
              "    }\n",
              "</style>\n",
              "<table border=\"1\" class=\"dataframe\">\n",
              "  <thead>\n",
              "    <tr>\n",
              "      <th></th>\n",
              "      <th>n_range</th>\n",
              "      <th>lower_bondary</th>\n",
              "      <th>upper_bondary</th>\n",
              "      <th>n_obs</th>\n",
              "      <th>n_events</th>\n",
              "      <th>event_rate</th>\n",
              "    </tr>\n",
              "  </thead>\n",
              "  <tbody>\n",
              "    <tr>\n",
              "      <th>0</th>\n",
              "      <td>0.00</td>\n",
              "      <td>-inf</td>\n",
              "      <td>12.00</td>\n",
              "      <td>46</td>\n",
              "      <td>27</td>\n",
              "      <td>0.59</td>\n",
              "    </tr>\n",
              "    <tr>\n",
              "      <th>1</th>\n",
              "      <td>1.00</td>\n",
              "      <td>12.00</td>\n",
              "      <td>18.00</td>\n",
              "      <td>29</td>\n",
              "      <td>14</td>\n",
              "      <td>0.48</td>\n",
              "    </tr>\n",
              "    <tr>\n",
              "      <th>2</th>\n",
              "      <td>2.00</td>\n",
              "      <td>18.00</td>\n",
              "      <td>35.00</td>\n",
              "      <td>362</td>\n",
              "      <td>123</td>\n",
              "      <td>0.34</td>\n",
              "    </tr>\n",
              "    <tr>\n",
              "      <th>3</th>\n",
              "      <td>3.00</td>\n",
              "      <td>35.00</td>\n",
              "      <td>inf</td>\n",
              "      <td>159</td>\n",
              "      <td>67</td>\n",
              "      <td>0.42</td>\n",
              "    </tr>\n",
              "  </tbody>\n",
              "</table>\n",
              "</div>"
            ],
            "text/plain": [
              "               n_range        lower_bondary  ... n_events           event_rate\n",
              "0                 0.00                 -inf  ...       27                 0.59\n",
              "1                 1.00                12.00  ...       14                 0.48\n",
              "2                 2.00                18.00  ...      123                 0.34\n",
              "3                 3.00                35.00  ...       67                 0.42\n",
              "\n",
              "[4 rows x 6 columns]"
            ]
          },
          "metadata": {
            "tags": []
          },
          "execution_count": 91
        }
      ]
    },
    {
      "cell_type": "markdown",
      "metadata": {
        "id": "UvEXC3-BoFnh"
      },
      "source": [
        "When we use the transform method, the original feature values will be replaced by the updated ranges."
      ]
    },
    {
      "cell_type": "code",
      "metadata": {
        "id": "agolxvwAoe6X"
      },
      "source": [
        "X_data_train_4a = oib.transform(X_data_train_3)\n",
        "X_data_test_4a = oib.transform(X_data_test_3)"
      ],
      "execution_count": 92,
      "outputs": []
    },
    {
      "cell_type": "markdown",
      "metadata": {
        "id": "AMhZZYjJpOHx"
      },
      "source": [
        "The transformed feature will receive the prefix 'ibin_'."
      ]
    },
    {
      "cell_type": "code",
      "metadata": {
        "colab": {
          "base_uri": "https://localhost:8080/"
        },
        "id": "BMRQeHseoWub",
        "outputId": "a85c8dcd-cfba-4da1-ac90-7e76cd1f98f9"
      },
      "source": [
        "np.unique(X_data_train_4a['ibin_Age'].values)"
      ],
      "execution_count": 93,
      "outputs": [
        {
          "output_type": "execute_result",
          "data": {
            "text/plain": [
              "array([0., 1., 2., 3.])"
            ]
          },
          "metadata": {
            "tags": []
          },
          "execution_count": 93
        }
      ]
    },
    {
      "cell_type": "markdown",
      "metadata": {
        "id": "wPmEMUGifAWr"
      },
      "source": [
        "# **Optimal Nominal Binning**"
      ]
    },
    {
      "cell_type": "markdown",
      "metadata": {
        "id": "ILkILY86oYRw"
      },
      "source": [
        "This class can be used to discretizate numerical features, in a optimal way, splitting in several ordinal groups, and making use of statistical hypothesis test for each neighboor groups to hierarquically, to merge groups that are not statistical different.\n",
        "\n",
        "After finishing the process for all numerical features, we can change the ranges interactvily to improve or simplify de range sets."
      ]
    },
    {
      "cell_type": "code",
      "metadata": {
        "id": "-eVAGNaxef_L"
      },
      "source": [
        "onb = OptimalNominalBinning(sigLevel=0.1)"
      ],
      "execution_count": 96,
      "outputs": []
    },
    {
      "cell_type": "code",
      "metadata": {
        "colab": {
          "base_uri": "https://localhost:8080/"
        },
        "id": "cS6kkZH-evv-",
        "outputId": "41c4fa91-fbbc-4be0-9158-90a0a758b36b"
      },
      "source": [
        "onb.fit(X_data_train_3[['Embarked']], Y_data_train)"
      ],
      "execution_count": 97,
      "outputs": [
        {
          "output_type": "stream",
          "text": [
            "Embarked\n",
            "    countColumn Survived                     \n",
            "            sum      sum                 mean\n",
            "bin                                          \n",
            "0           115       65                 0.57\n",
            "1           439      152                 0.35\n",
            "2            42       14                 0.33\n",
            "current: 1.0 next_bin: 2.0 p_value: 0.8664998725963949 n_current_bin: 439.0 n_next_bin p_current_bin: 0.3462414578587699 p_next_bin: 0.3333333333333333\n",
            "1.0  now is 2.0\n",
            "    countColumn Survived                     \n",
            "            sum      sum                 mean\n",
            "bin                                          \n",
            "0           115       65                 0.57\n",
            "2           481      166                 0.35\n",
            "Process finished\n"
          ],
          "name": "stdout"
        }
      ]
    },
    {
      "cell_type": "markdown",
      "metadata": {
        "id": "8ZkyvrLPe3dp"
      },
      "source": [
        "## **Interactive Binning**"
      ]
    },
    {
      "cell_type": "code",
      "metadata": {
        "colab": {
          "base_uri": "https://localhost:8080/"
        },
        "id": "Wo9skwufe3I2",
        "outputId": "9328b4c1-5ac3-4a8a-cf44-fefd06e52ef8"
      },
      "source": [
        "[f for f in onb.statistics]"
      ],
      "execution_count": 98,
      "outputs": [
        {
          "output_type": "execute_result",
          "data": {
            "text/plain": [
              "['Embarked']"
            ]
          },
          "metadata": {
            "tags": []
          },
          "execution_count": 98
        }
      ]
    },
    {
      "cell_type": "markdown",
      "metadata": {
        "id": "mUNZ254np9HM"
      },
      "source": [
        "Here we can see the classes groups set learned by the fit method."
      ]
    },
    {
      "cell_type": "code",
      "metadata": {
        "colab": {
          "base_uri": "https://localhost:8080/",
          "height": 111
        },
        "id": "JxkBUpcIey7S",
        "outputId": "ef1c1c3a-0283-4117-c8a7-7f536c3cf128"
      },
      "source": [
        "feature = 'Embarked'\n",
        "onb.reset_feature(feature)\n",
        "onb.original_statistics[feature]"
      ],
      "execution_count": 99,
      "outputs": [
        {
          "output_type": "execute_result",
          "data": {
            "text/html": [
              "<div>\n",
              "<style scoped>\n",
              "    .dataframe tbody tr th:only-of-type {\n",
              "        vertical-align: middle;\n",
              "    }\n",
              "\n",
              "    .dataframe tbody tr th {\n",
              "        vertical-align: top;\n",
              "    }\n",
              "\n",
              "    .dataframe thead th {\n",
              "        text-align: right;\n",
              "    }\n",
              "</style>\n",
              "<table border=\"1\" class=\"dataframe\">\n",
              "  <thead>\n",
              "    <tr style=\"text-align: right;\">\n",
              "      <th></th>\n",
              "      <th>bin</th>\n",
              "      <th>n_obs</th>\n",
              "      <th>n_events</th>\n",
              "      <th>event_rate</th>\n",
              "      <th>class_list</th>\n",
              "    </tr>\n",
              "  </thead>\n",
              "  <tbody>\n",
              "    <tr>\n",
              "      <th>0</th>\n",
              "      <td>0</td>\n",
              "      <td>115</td>\n",
              "      <td>65</td>\n",
              "      <td>0.57</td>\n",
              "      <td>['C']</td>\n",
              "    </tr>\n",
              "    <tr>\n",
              "      <th>1</th>\n",
              "      <td>2</td>\n",
              "      <td>481</td>\n",
              "      <td>166</td>\n",
              "      <td>0.35</td>\n",
              "      <td>['Q', 'S']</td>\n",
              "    </tr>\n",
              "  </tbody>\n",
              "</table>\n",
              "</div>"
            ],
            "text/plain": [
              "   bin  n_obs  n_events           event_rate  class_list\n",
              "0    0    115        65                 0.57       ['C']\n",
              "1    2    481       166                 0.35  ['Q', 'S']"
            ]
          },
          "metadata": {
            "tags": []
          },
          "execution_count": 99
        }
      ]
    },
    {
      "cell_type": "markdown",
      "metadata": {
        "id": "2yps2QFcqKjJ"
      },
      "source": [
        "It is possible to assign a class to a new or an existent bin."
      ]
    },
    {
      "cell_type": "code",
      "metadata": {
        "colab": {
          "base_uri": "https://localhost:8080/",
          "height": 142
        },
        "id": "_WgcfCj1f3_k",
        "outputId": "29ba2c82-78a5-4021-8459-cbc444ec5fd4"
      },
      "source": [
        "onb.changeFeatureBin(feature, 'Q', 1)\n",
        "onb.statistics[feature]"
      ],
      "execution_count": 102,
      "outputs": [
        {
          "output_type": "execute_result",
          "data": {
            "text/html": [
              "<div>\n",
              "<style scoped>\n",
              "    .dataframe tbody tr th:only-of-type {\n",
              "        vertical-align: middle;\n",
              "    }\n",
              "\n",
              "    .dataframe tbody tr th {\n",
              "        vertical-align: top;\n",
              "    }\n",
              "\n",
              "    .dataframe thead th {\n",
              "        text-align: right;\n",
              "    }\n",
              "</style>\n",
              "<table border=\"1\" class=\"dataframe\">\n",
              "  <thead>\n",
              "    <tr style=\"text-align: right;\">\n",
              "      <th></th>\n",
              "      <th>bin</th>\n",
              "      <th>n_obs</th>\n",
              "      <th>n_events</th>\n",
              "      <th>event_rate</th>\n",
              "      <th>class_list</th>\n",
              "    </tr>\n",
              "  </thead>\n",
              "  <tbody>\n",
              "    <tr>\n",
              "      <th>0</th>\n",
              "      <td>0</td>\n",
              "      <td>115</td>\n",
              "      <td>65</td>\n",
              "      <td>0.57</td>\n",
              "      <td>['C']</td>\n",
              "    </tr>\n",
              "    <tr>\n",
              "      <th>1</th>\n",
              "      <td>1</td>\n",
              "      <td>42</td>\n",
              "      <td>14</td>\n",
              "      <td>0.33</td>\n",
              "      <td>['Q']</td>\n",
              "    </tr>\n",
              "    <tr>\n",
              "      <th>2</th>\n",
              "      <td>2</td>\n",
              "      <td>439</td>\n",
              "      <td>152</td>\n",
              "      <td>0.35</td>\n",
              "      <td>['S']</td>\n",
              "    </tr>\n",
              "  </tbody>\n",
              "</table>\n",
              "</div>"
            ],
            "text/plain": [
              "   bin  n_obs  n_events           event_rate class_list\n",
              "0    0    115        65                 0.57      ['C']\n",
              "1    1     42        14                 0.33      ['Q']\n",
              "2    2    439       152                 0.35      ['S']"
            ]
          },
          "metadata": {
            "tags": []
          },
          "execution_count": 102
        }
      ]
    },
    {
      "cell_type": "markdown",
      "metadata": {
        "id": "wTVVh2Vjq3Ky"
      },
      "source": [
        "When we use the transform method, the original feature values will be replaced by the updated ranges."
      ]
    },
    {
      "cell_type": "code",
      "metadata": {
        "id": "o4cClMYcq3Ky"
      },
      "source": [
        "X_data_train_4b = onb.transform(X_data_train_3)\n",
        "X_data_test_4b = onb.transform(X_data_test_3)"
      ],
      "execution_count": 103,
      "outputs": []
    },
    {
      "cell_type": "markdown",
      "metadata": {
        "id": "sZGaE4rLq3Ky"
      },
      "source": [
        "The transformed feature will receive the prefix 'cbin_'."
      ]
    },
    {
      "cell_type": "code",
      "metadata": {
        "colab": {
          "base_uri": "https://localhost:8080/"
        },
        "id": "tDhnKFG8q3Ky",
        "outputId": "519748de-9636-4454-9619-1be9f00e951f"
      },
      "source": [
        "np.unique(X_data_train_4b['cbin_Embarked'].values)"
      ],
      "execution_count": 104,
      "outputs": [
        {
          "output_type": "execute_result",
          "data": {
            "text/plain": [
              "array([0, 1, 2])"
            ]
          },
          "metadata": {
            "tags": []
          },
          "execution_count": 104
        }
      ]
    },
    {
      "cell_type": "markdown",
      "metadata": {
        "id": "T8lcjjr1Kej3"
      },
      "source": [
        "# **Variable Clustering (Correlation Feature Selection)**"
      ]
    },
    {
      "cell_type": "markdown",
      "metadata": {
        "id": "pnnunCR0tmpW"
      },
      "source": [
        "Class to perform variable selection based on correlation analysis. The process works in 2 steps:\n",
        "\n",
        "1.   Clustering of veriables with R2 as distance measure\n",
        "2.   Selecting inside each cluster, the variable with lower 1-Rˆ2 Ratio"
      ]
    },
    {
      "cell_type": "code",
      "metadata": {
        "id": "adtih_ryRmNI"
      },
      "source": [
        "X_data_train = pd.read_csv('/content/drive/My Drive/Arrhythmia/arrhythmia_train_treated.data')\n",
        "X_data_test = pd.read_csv('/content/drive/My Drive/Arrhythmia/arrhythmia_test_treated.data')"
      ],
      "execution_count": 81,
      "outputs": []
    },
    {
      "cell_type": "code",
      "metadata": {
        "id": "BKWVrANbPECU"
      },
      "source": [
        "vcs = VariableClusteringSelection(dissimilarity_threshold=0.9) #correlation threshold >= 0.1 (1 - 0.9)"
      ],
      "execution_count": 77,
      "outputs": []
    },
    {
      "cell_type": "code",
      "metadata": {
        "id": "6jEiU6DxPo7v",
        "colab": {
          "base_uri": "https://localhost:8080/"
        },
        "outputId": "043fffb9-0d64-46ea-9fd0-2567f827c80f"
      },
      "source": [
        "X_data_train_2 = vcs.fit_transform(X_data_train)"
      ],
      "execution_count": 78,
      "outputs": [
        {
          "output_type": "stream",
          "text": [
            "Fitting Agglomerative Clustering\n",
            "\n"
          ],
          "name": "stdout"
        },
        {
          "output_type": "stream",
          "text": [
            "/usr/local/lib/python3.6/dist-packages/scipy/cluster/hierarchy.py:830: ClusterWarning: scipy.cluster: The symmetric non-negative hollow observation matrix looks suspiciously like an uncondensed distance matrix\n",
            "  return linkage(y, method='ward', metric='euclidean')\n"
          ],
          "name": "stderr"
        }
      ]
    },
    {
      "cell_type": "code",
      "metadata": {
        "colab": {
          "base_uri": "https://localhost:8080/"
        },
        "id": "bTymTVwdT_P4",
        "outputId": "fc27857b-9526-41b1-97d5-7cdf10f4b63c"
      },
      "source": [
        "print('before...', X_data_train.shape)\n",
        "print('after...', X_data_train_2.shape)"
      ],
      "execution_count": 79,
      "outputs": [
        {
          "output_type": "stream",
          "text": [
            "before... (302, 34)\n",
            "after... (302, 25)\n"
          ],
          "name": "stdout"
        }
      ]
    },
    {
      "cell_type": "code",
      "metadata": {
        "id": "GqS0cAy-QejQ"
      },
      "source": [
        "X_data_test_2 = vcs.transform(X_data_test)"
      ],
      "execution_count": 82,
      "outputs": []
    },
    {
      "cell_type": "code",
      "metadata": {
        "id": "7whiVumuRZRe",
        "colab": {
          "base_uri": "https://localhost:8080/"
        },
        "outputId": "a0495917-ed20-4039-9685-7d76eb66ddb3"
      },
      "source": [
        "print('before...', X_data_test.shape)\n",
        "print('after...', X_data_test_2.shape)"
      ],
      "execution_count": 83,
      "outputs": [
        {
          "output_type": "stream",
          "text": [
            "before... (150, 34)\n",
            "after... (150, 25)\n"
          ],
          "name": "stdout"
        }
      ]
    },
    {
      "cell_type": "markdown",
      "metadata": {
        "id": "518isB2ctDsC"
      },
      "source": [
        "Clusters of variables, using abolute of R2 as distance measure."
      ]
    },
    {
      "cell_type": "code",
      "metadata": {
        "id": "51iDxqaZRgqe",
        "colab": {
          "base_uri": "https://localhost:8080/",
          "height": 1000
        },
        "outputId": "a1c0770d-3c83-408e-dc8b-b5288533b32f"
      },
      "source": [
        "vcs.df_variable_scores"
      ],
      "execution_count": 87,
      "outputs": [
        {
          "output_type": "execute_result",
          "data": {
            "text/html": [
              "<div>\n",
              "<style scoped>\n",
              "    .dataframe tbody tr th:only-of-type {\n",
              "        vertical-align: middle;\n",
              "    }\n",
              "\n",
              "    .dataframe tbody tr th {\n",
              "        vertical-align: top;\n",
              "    }\n",
              "\n",
              "    .dataframe thead th {\n",
              "        text-align: right;\n",
              "    }\n",
              "</style>\n",
              "<table border=\"1\" class=\"dataframe\">\n",
              "  <thead>\n",
              "    <tr style=\"text-align: right;\">\n",
              "      <th></th>\n",
              "      <th>cluster</th>\n",
              "      <th>variable</th>\n",
              "      <th>own_cluster_Rˆ2</th>\n",
              "      <th>neighbor_cluster_Rˆ2</th>\n",
              "      <th>1-Rˆ2 Ratio</th>\n",
              "    </tr>\n",
              "  </thead>\n",
              "  <tbody>\n",
              "    <tr>\n",
              "      <th>0</th>\n",
              "      <td>14.00</td>\n",
              "      <td>channel AVL - avg width of - R'</td>\n",
              "      <td>1.00</td>\n",
              "      <td>0.02</td>\n",
              "      <td>0.00</td>\n",
              "    </tr>\n",
              "    <tr>\n",
              "      <th>1</th>\n",
              "      <td>6.00</td>\n",
              "      <td>channel DI - amplitude of - T wave</td>\n",
              "      <td>0.75</td>\n",
              "      <td>0.00</td>\n",
              "      <td>0.25</td>\n",
              "    </tr>\n",
              "    <tr>\n",
              "      <th>2</th>\n",
              "      <td>6.00</td>\n",
              "      <td>channel AVR - amplitude of - T wave</td>\n",
              "      <td>0.86</td>\n",
              "      <td>0.01</td>\n",
              "      <td>0.14</td>\n",
              "    </tr>\n",
              "    <tr>\n",
              "      <th>3</th>\n",
              "      <td>6.00</td>\n",
              "      <td>channel V6 - amplitude of - T wave</td>\n",
              "      <td>0.78</td>\n",
              "      <td>0.02</td>\n",
              "      <td>0.23</td>\n",
              "    </tr>\n",
              "    <tr>\n",
              "      <th>4</th>\n",
              "      <td>15.00</td>\n",
              "      <td>channel V2 - avg width of - R'</td>\n",
              "      <td>0.91</td>\n",
              "      <td>0.02</td>\n",
              "      <td>0.09</td>\n",
              "    </tr>\n",
              "    <tr>\n",
              "      <th>5</th>\n",
              "      <td>15.00</td>\n",
              "      <td>channel V2 - amplitude of - R'</td>\n",
              "      <td>0.91</td>\n",
              "      <td>0.03</td>\n",
              "      <td>0.09</td>\n",
              "    </tr>\n",
              "    <tr>\n",
              "      <th>6</th>\n",
              "      <td>16.00</td>\n",
              "      <td>channel V1 - avg width of - S wave</td>\n",
              "      <td>1.00</td>\n",
              "      <td>0.01</td>\n",
              "      <td>0.00</td>\n",
              "    </tr>\n",
              "    <tr>\n",
              "      <th>7</th>\n",
              "      <td>17.00</td>\n",
              "      <td>Unnamed: 0</td>\n",
              "      <td>1.00</td>\n",
              "      <td>0.01</td>\n",
              "      <td>0.00</td>\n",
              "    </tr>\n",
              "    <tr>\n",
              "      <th>8</th>\n",
              "      <td>18.00</td>\n",
              "      <td>Sex</td>\n",
              "      <td>1.00</td>\n",
              "      <td>0.04</td>\n",
              "      <td>0.00</td>\n",
              "    </tr>\n",
              "    <tr>\n",
              "      <th>9</th>\n",
              "      <td>19.00</td>\n",
              "      <td>channel V3 - amplitude of - QRSTA</td>\n",
              "      <td>1.00</td>\n",
              "      <td>0.16</td>\n",
              "      <td>0.00</td>\n",
              "    </tr>\n",
              "    <tr>\n",
              "      <th>10</th>\n",
              "      <td>20.00</td>\n",
              "      <td>channel DI - amplitude of - S wave</td>\n",
              "      <td>1.00</td>\n",
              "      <td>0.01</td>\n",
              "      <td>0.00</td>\n",
              "    </tr>\n",
              "    <tr>\n",
              "      <th>11</th>\n",
              "      <td>21.00</td>\n",
              "      <td>channel V3 - avg width of - Existence of dipha...</td>\n",
              "      <td>1.00</td>\n",
              "      <td>0.00</td>\n",
              "      <td>0.00</td>\n",
              "    </tr>\n",
              "    <tr>\n",
              "      <th>12</th>\n",
              "      <td>22.00</td>\n",
              "      <td>QRS duration</td>\n",
              "      <td>1.00</td>\n",
              "      <td>0.12</td>\n",
              "      <td>0.00</td>\n",
              "    </tr>\n",
              "    <tr>\n",
              "      <th>13</th>\n",
              "      <td>23.00</td>\n",
              "      <td>channel DI - avg width of - R'</td>\n",
              "      <td>1.00</td>\n",
              "      <td>0.02</td>\n",
              "      <td>0.00</td>\n",
              "    </tr>\n",
              "    <tr>\n",
              "      <th>14</th>\n",
              "      <td>7.00</td>\n",
              "      <td>channel V2 - avg width of - Q wave</td>\n",
              "      <td>0.48</td>\n",
              "      <td>0.07</td>\n",
              "      <td>0.56</td>\n",
              "    </tr>\n",
              "    <tr>\n",
              "      <th>15</th>\n",
              "      <td>7.00</td>\n",
              "      <td>channel V3 - avg width of - Q wave</td>\n",
              "      <td>0.48</td>\n",
              "      <td>0.05</td>\n",
              "      <td>0.55</td>\n",
              "    </tr>\n",
              "    <tr>\n",
              "      <th>16</th>\n",
              "      <td>24.00</td>\n",
              "      <td>channel DI - avg width of - Existence of dipha...</td>\n",
              "      <td>1.00</td>\n",
              "      <td>0.00</td>\n",
              "      <td>0.00</td>\n",
              "    </tr>\n",
              "    <tr>\n",
              "      <th>17</th>\n",
              "      <td>10.00</td>\n",
              "      <td>channel V5 - avg width of - Q wave</td>\n",
              "      <td>1.00</td>\n",
              "      <td>0.04</td>\n",
              "      <td>0.00</td>\n",
              "    </tr>\n",
              "    <tr>\n",
              "      <th>18</th>\n",
              "      <td>13.00</td>\n",
              "      <td>channel AVL - avg width of - Number of intrins...</td>\n",
              "      <td>1.00</td>\n",
              "      <td>0.05</td>\n",
              "      <td>0.00</td>\n",
              "    </tr>\n",
              "    <tr>\n",
              "      <th>19</th>\n",
              "      <td>12.00</td>\n",
              "      <td>channel V1 - amplitude of - R wave</td>\n",
              "      <td>1.00</td>\n",
              "      <td>0.04</td>\n",
              "      <td>0.00</td>\n",
              "    </tr>\n",
              "    <tr>\n",
              "      <th>20</th>\n",
              "      <td>11.00</td>\n",
              "      <td>channel V3 - amplitude of - P wave</td>\n",
              "      <td>1.00</td>\n",
              "      <td>0.01</td>\n",
              "      <td>0.00</td>\n",
              "    </tr>\n",
              "    <tr>\n",
              "      <th>21</th>\n",
              "      <td>8.00</td>\n",
              "      <td>channel AVR - avg width of - Existence of diph...</td>\n",
              "      <td>1.00</td>\n",
              "      <td>0.04</td>\n",
              "      <td>0.00</td>\n",
              "    </tr>\n",
              "    <tr>\n",
              "      <th>22</th>\n",
              "      <td>9.00</td>\n",
              "      <td>channel V4 - amplitude of - R wave</td>\n",
              "      <td>1.00</td>\n",
              "      <td>0.04</td>\n",
              "      <td>0.00</td>\n",
              "    </tr>\n",
              "    <tr>\n",
              "      <th>23</th>\n",
              "      <td>2.00</td>\n",
              "      <td>channel DI - amplitude of - QRSTA</td>\n",
              "      <td>0.44</td>\n",
              "      <td>0.00</td>\n",
              "      <td>0.56</td>\n",
              "    </tr>\n",
              "    <tr>\n",
              "      <th>24</th>\n",
              "      <td>2.00</td>\n",
              "      <td>channel AVR - amplitude of - QRSTA</td>\n",
              "      <td>0.44</td>\n",
              "      <td>0.01</td>\n",
              "      <td>0.57</td>\n",
              "    </tr>\n",
              "    <tr>\n",
              "      <th>25</th>\n",
              "      <td>5.00</td>\n",
              "      <td>channel V3 - amplitude of - T wave</td>\n",
              "      <td>1.00</td>\n",
              "      <td>0.09</td>\n",
              "      <td>0.00</td>\n",
              "    </tr>\n",
              "    <tr>\n",
              "      <th>26</th>\n",
              "      <td>4.00</td>\n",
              "      <td>channel DI - amplitude of - P wave</td>\n",
              "      <td>0.21</td>\n",
              "      <td>0.04</td>\n",
              "      <td>0.82</td>\n",
              "    </tr>\n",
              "    <tr>\n",
              "      <th>27</th>\n",
              "      <td>4.00</td>\n",
              "      <td>channel DII - amplitude of - P wave</td>\n",
              "      <td>0.21</td>\n",
              "      <td>0.01</td>\n",
              "      <td>0.80</td>\n",
              "    </tr>\n",
              "    <tr>\n",
              "      <th>28</th>\n",
              "      <td>3.00</td>\n",
              "      <td>channels DIII - amplitude of - Q wave</td>\n",
              "      <td>0.29</td>\n",
              "      <td>0.06</td>\n",
              "      <td>0.76</td>\n",
              "    </tr>\n",
              "    <tr>\n",
              "      <th>29</th>\n",
              "      <td>3.00</td>\n",
              "      <td>channel AVF - amplitude of - Q wave</td>\n",
              "      <td>0.29</td>\n",
              "      <td>0.01</td>\n",
              "      <td>0.72</td>\n",
              "    </tr>\n",
              "    <tr>\n",
              "      <th>30</th>\n",
              "      <td>1.00</td>\n",
              "      <td>channel AVR - amplitude of - JJ wave</td>\n",
              "      <td>0.36</td>\n",
              "      <td>0.03</td>\n",
              "      <td>0.66</td>\n",
              "    </tr>\n",
              "    <tr>\n",
              "      <th>31</th>\n",
              "      <td>1.00</td>\n",
              "      <td>channel V5 - amplitude of - JJ wave</td>\n",
              "      <td>0.36</td>\n",
              "      <td>0.04</td>\n",
              "      <td>0.66</td>\n",
              "    </tr>\n",
              "    <tr>\n",
              "      <th>32</th>\n",
              "      <td>0.00</td>\n",
              "      <td>channel V1 - avg width of - R'</td>\n",
              "      <td>0.28</td>\n",
              "      <td>0.01</td>\n",
              "      <td>0.73</td>\n",
              "    </tr>\n",
              "    <tr>\n",
              "      <th>33</th>\n",
              "      <td>0.00</td>\n",
              "      <td>channel V1 - avg width of - Number of intrinsi...</td>\n",
              "      <td>0.28</td>\n",
              "      <td>0.03</td>\n",
              "      <td>0.74</td>\n",
              "    </tr>\n",
              "  </tbody>\n",
              "</table>\n",
              "</div>"
            ],
            "text/plain": [
              "                cluster  ...          1-Rˆ2 Ratio\n",
              "0                 14.00  ...                 0.00\n",
              "1                  6.00  ...                 0.25\n",
              "2                  6.00  ...                 0.14\n",
              "3                  6.00  ...                 0.23\n",
              "4                 15.00  ...                 0.09\n",
              "5                 15.00  ...                 0.09\n",
              "6                 16.00  ...                 0.00\n",
              "7                 17.00  ...                 0.00\n",
              "8                 18.00  ...                 0.00\n",
              "9                 19.00  ...                 0.00\n",
              "10                20.00  ...                 0.00\n",
              "11                21.00  ...                 0.00\n",
              "12                22.00  ...                 0.00\n",
              "13                23.00  ...                 0.00\n",
              "14                 7.00  ...                 0.56\n",
              "15                 7.00  ...                 0.55\n",
              "16                24.00  ...                 0.00\n",
              "17                10.00  ...                 0.00\n",
              "18                13.00  ...                 0.00\n",
              "19                12.00  ...                 0.00\n",
              "20                11.00  ...                 0.00\n",
              "21                 8.00  ...                 0.00\n",
              "22                 9.00  ...                 0.00\n",
              "23                 2.00  ...                 0.56\n",
              "24                 2.00  ...                 0.57\n",
              "25                 5.00  ...                 0.00\n",
              "26                 4.00  ...                 0.82\n",
              "27                 4.00  ...                 0.80\n",
              "28                 3.00  ...                 0.76\n",
              "29                 3.00  ...                 0.72\n",
              "30                 1.00  ...                 0.66\n",
              "31                 1.00  ...                 0.66\n",
              "32                 0.00  ...                 0.73\n",
              "33                 0.00  ...                 0.74\n",
              "\n",
              "[34 rows x 5 columns]"
            ]
          },
          "metadata": {
            "tags": []
          },
          "execution_count": 87
        }
      ]
    },
    {
      "cell_type": "markdown",
      "metadata": {
        "id": "HrSpsJVsuXHF"
      },
      "source": [
        "Selection the best variables considering the lower 1-Rˆ2 Ratio. To calculate this, we calculate the R2 of each variables with all other variables of the own cluster (using a Linear Regression), then we calculate the R2 of each variable of the cluster again, but with all variables from the nearest cluster of the own cluster.\n",
        "\n",
        "As a result, we calculate 1-Rˆ2 Ratio = (1 - R2 own cluster)/(1 - R2 nearest cluster).\n",
        "\n",
        "The intuition of this measure is to select the variable that will keep the maximum of new information, retaining the maximum of the information of its cluster, but avoiding to repeat information present in the nearest cluster."
      ]
    },
    {
      "cell_type": "code",
      "metadata": {
        "id": "jJRSXjpERUnf",
        "colab": {
          "base_uri": "https://localhost:8080/",
          "height": 824
        },
        "outputId": "a995649d-db4b-4ee0-bf60-c9070b28c653"
      },
      "source": [
        "vcs.df_best_variables"
      ],
      "execution_count": 86,
      "outputs": [
        {
          "output_type": "execute_result",
          "data": {
            "text/html": [
              "<div>\n",
              "<style scoped>\n",
              "    .dataframe tbody tr th:only-of-type {\n",
              "        vertical-align: middle;\n",
              "    }\n",
              "\n",
              "    .dataframe tbody tr th {\n",
              "        vertical-align: top;\n",
              "    }\n",
              "\n",
              "    .dataframe thead th {\n",
              "        text-align: right;\n",
              "    }\n",
              "</style>\n",
              "<table border=\"1\" class=\"dataframe\">\n",
              "  <thead>\n",
              "    <tr style=\"text-align: right;\">\n",
              "      <th></th>\n",
              "      <th>cluster</th>\n",
              "      <th>variable</th>\n",
              "      <th>own_cluster_Rˆ2</th>\n",
              "      <th>neighbor_cluster_Rˆ2</th>\n",
              "      <th>1-Rˆ2 Ratio</th>\n",
              "    </tr>\n",
              "  </thead>\n",
              "  <tbody>\n",
              "    <tr>\n",
              "      <th>0</th>\n",
              "      <td>14.00</td>\n",
              "      <td>channel AVL - avg width of - R'</td>\n",
              "      <td>1.00</td>\n",
              "      <td>0.02</td>\n",
              "      <td>0.00</td>\n",
              "    </tr>\n",
              "    <tr>\n",
              "      <th>25</th>\n",
              "      <td>5.00</td>\n",
              "      <td>channel V3 - amplitude of - T wave</td>\n",
              "      <td>1.00</td>\n",
              "      <td>0.09</td>\n",
              "      <td>0.00</td>\n",
              "    </tr>\n",
              "    <tr>\n",
              "      <th>22</th>\n",
              "      <td>9.00</td>\n",
              "      <td>channel V4 - amplitude of - R wave</td>\n",
              "      <td>1.00</td>\n",
              "      <td>0.04</td>\n",
              "      <td>0.00</td>\n",
              "    </tr>\n",
              "    <tr>\n",
              "      <th>21</th>\n",
              "      <td>8.00</td>\n",
              "      <td>channel AVR - avg width of - Existence of diph...</td>\n",
              "      <td>1.00</td>\n",
              "      <td>0.04</td>\n",
              "      <td>0.00</td>\n",
              "    </tr>\n",
              "    <tr>\n",
              "      <th>20</th>\n",
              "      <td>11.00</td>\n",
              "      <td>channel V3 - amplitude of - P wave</td>\n",
              "      <td>1.00</td>\n",
              "      <td>0.01</td>\n",
              "      <td>0.00</td>\n",
              "    </tr>\n",
              "    <tr>\n",
              "      <th>19</th>\n",
              "      <td>12.00</td>\n",
              "      <td>channel V1 - amplitude of - R wave</td>\n",
              "      <td>1.00</td>\n",
              "      <td>0.04</td>\n",
              "      <td>0.00</td>\n",
              "    </tr>\n",
              "    <tr>\n",
              "      <th>18</th>\n",
              "      <td>13.00</td>\n",
              "      <td>channel AVL - avg width of - Number of intrins...</td>\n",
              "      <td>1.00</td>\n",
              "      <td>0.05</td>\n",
              "      <td>0.00</td>\n",
              "    </tr>\n",
              "    <tr>\n",
              "      <th>17</th>\n",
              "      <td>10.00</td>\n",
              "      <td>channel V5 - avg width of - Q wave</td>\n",
              "      <td>1.00</td>\n",
              "      <td>0.04</td>\n",
              "      <td>0.00</td>\n",
              "    </tr>\n",
              "    <tr>\n",
              "      <th>13</th>\n",
              "      <td>23.00</td>\n",
              "      <td>channel DI - avg width of - R'</td>\n",
              "      <td>1.00</td>\n",
              "      <td>0.02</td>\n",
              "      <td>0.00</td>\n",
              "    </tr>\n",
              "    <tr>\n",
              "      <th>12</th>\n",
              "      <td>22.00</td>\n",
              "      <td>QRS duration</td>\n",
              "      <td>1.00</td>\n",
              "      <td>0.12</td>\n",
              "      <td>0.00</td>\n",
              "    </tr>\n",
              "    <tr>\n",
              "      <th>11</th>\n",
              "      <td>21.00</td>\n",
              "      <td>channel V3 - avg width of - Existence of dipha...</td>\n",
              "      <td>1.00</td>\n",
              "      <td>0.00</td>\n",
              "      <td>0.00</td>\n",
              "    </tr>\n",
              "    <tr>\n",
              "      <th>16</th>\n",
              "      <td>24.00</td>\n",
              "      <td>channel DI - avg width of - Existence of dipha...</td>\n",
              "      <td>1.00</td>\n",
              "      <td>0.00</td>\n",
              "      <td>0.00</td>\n",
              "    </tr>\n",
              "    <tr>\n",
              "      <th>9</th>\n",
              "      <td>19.00</td>\n",
              "      <td>channel V3 - amplitude of - QRSTA</td>\n",
              "      <td>1.00</td>\n",
              "      <td>0.16</td>\n",
              "      <td>0.00</td>\n",
              "    </tr>\n",
              "    <tr>\n",
              "      <th>8</th>\n",
              "      <td>18.00</td>\n",
              "      <td>Sex</td>\n",
              "      <td>1.00</td>\n",
              "      <td>0.04</td>\n",
              "      <td>0.00</td>\n",
              "    </tr>\n",
              "    <tr>\n",
              "      <th>10</th>\n",
              "      <td>20.00</td>\n",
              "      <td>channel DI - amplitude of - S wave</td>\n",
              "      <td>1.00</td>\n",
              "      <td>0.01</td>\n",
              "      <td>0.00</td>\n",
              "    </tr>\n",
              "    <tr>\n",
              "      <th>7</th>\n",
              "      <td>17.00</td>\n",
              "      <td>Unnamed: 0</td>\n",
              "      <td>1.00</td>\n",
              "      <td>0.01</td>\n",
              "      <td>0.00</td>\n",
              "    </tr>\n",
              "    <tr>\n",
              "      <th>6</th>\n",
              "      <td>16.00</td>\n",
              "      <td>channel V1 - avg width of - S wave</td>\n",
              "      <td>1.00</td>\n",
              "      <td>0.01</td>\n",
              "      <td>0.00</td>\n",
              "    </tr>\n",
              "    <tr>\n",
              "      <th>4</th>\n",
              "      <td>15.00</td>\n",
              "      <td>channel V2 - avg width of - R'</td>\n",
              "      <td>0.91</td>\n",
              "      <td>0.02</td>\n",
              "      <td>0.09</td>\n",
              "    </tr>\n",
              "    <tr>\n",
              "      <th>2</th>\n",
              "      <td>6.00</td>\n",
              "      <td>channel AVR - amplitude of - T wave</td>\n",
              "      <td>0.86</td>\n",
              "      <td>0.01</td>\n",
              "      <td>0.14</td>\n",
              "    </tr>\n",
              "    <tr>\n",
              "      <th>15</th>\n",
              "      <td>7.00</td>\n",
              "      <td>channel V3 - avg width of - Q wave</td>\n",
              "      <td>0.48</td>\n",
              "      <td>0.05</td>\n",
              "      <td>0.55</td>\n",
              "    </tr>\n",
              "    <tr>\n",
              "      <th>23</th>\n",
              "      <td>2.00</td>\n",
              "      <td>channel DI - amplitude of - QRSTA</td>\n",
              "      <td>0.44</td>\n",
              "      <td>0.00</td>\n",
              "      <td>0.56</td>\n",
              "    </tr>\n",
              "    <tr>\n",
              "      <th>30</th>\n",
              "      <td>1.00</td>\n",
              "      <td>channel AVR - amplitude of - JJ wave</td>\n",
              "      <td>0.36</td>\n",
              "      <td>0.03</td>\n",
              "      <td>0.66</td>\n",
              "    </tr>\n",
              "    <tr>\n",
              "      <th>29</th>\n",
              "      <td>3.00</td>\n",
              "      <td>channel AVF - amplitude of - Q wave</td>\n",
              "      <td>0.29</td>\n",
              "      <td>0.01</td>\n",
              "      <td>0.72</td>\n",
              "    </tr>\n",
              "    <tr>\n",
              "      <th>32</th>\n",
              "      <td>0.00</td>\n",
              "      <td>channel V1 - avg width of - R'</td>\n",
              "      <td>0.28</td>\n",
              "      <td>0.01</td>\n",
              "      <td>0.73</td>\n",
              "    </tr>\n",
              "    <tr>\n",
              "      <th>27</th>\n",
              "      <td>4.00</td>\n",
              "      <td>channel DII - amplitude of - P wave</td>\n",
              "      <td>0.21</td>\n",
              "      <td>0.01</td>\n",
              "      <td>0.80</td>\n",
              "    </tr>\n",
              "  </tbody>\n",
              "</table>\n",
              "</div>"
            ],
            "text/plain": [
              "                cluster  ...          1-Rˆ2 Ratio\n",
              "0                 14.00  ...                 0.00\n",
              "25                 5.00  ...                 0.00\n",
              "22                 9.00  ...                 0.00\n",
              "21                 8.00  ...                 0.00\n",
              "20                11.00  ...                 0.00\n",
              "19                12.00  ...                 0.00\n",
              "18                13.00  ...                 0.00\n",
              "17                10.00  ...                 0.00\n",
              "13                23.00  ...                 0.00\n",
              "12                22.00  ...                 0.00\n",
              "11                21.00  ...                 0.00\n",
              "16                24.00  ...                 0.00\n",
              "9                 19.00  ...                 0.00\n",
              "8                 18.00  ...                 0.00\n",
              "10                20.00  ...                 0.00\n",
              "7                 17.00  ...                 0.00\n",
              "6                 16.00  ...                 0.00\n",
              "4                 15.00  ...                 0.09\n",
              "2                  6.00  ...                 0.14\n",
              "15                 7.00  ...                 0.55\n",
              "23                 2.00  ...                 0.56\n",
              "30                 1.00  ...                 0.66\n",
              "29                 3.00  ...                 0.72\n",
              "32                 0.00  ...                 0.73\n",
              "27                 4.00  ...                 0.80\n",
              "\n",
              "[25 rows x 5 columns]"
            ]
          },
          "metadata": {
            "tags": []
          },
          "execution_count": 86
        }
      ]
    },
    {
      "cell_type": "markdown",
      "metadata": {
        "id": "8JdsTam1wEvm"
      },
      "source": [
        "In following, we can inspect the reduced correlation graph between features."
      ]
    },
    {
      "cell_type": "code",
      "metadata": {
        "id": "jW-VR0XlRCWJ",
        "colab": {
          "base_uri": "https://localhost:8080/",
          "height": 819
        },
        "outputId": "da3b56f6-a53c-4523-b25f-7dbd7d17bc58"
      },
      "source": [
        "vcs.plot_collinear(correlation_threshold=0.5, cmap='RdBu')"
      ],
      "execution_count": 85,
      "outputs": [
        {
          "output_type": "display_data",
          "data": {
            "image/png": "[encoded data removed]",
            "text/plain": [
              "<Figure size 720x576 with 2 Axes>"
            ]
          },
          "metadata": {
            "tags": []
          }
        }
      ]
    }
  ]
}